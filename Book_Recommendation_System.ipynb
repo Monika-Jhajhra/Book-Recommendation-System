{
 "cells": [
  {
   "cell_type": "markdown",
   "id": "47e1d3ba-4ce9-4f9c-a157-545cd8d05720",
   "metadata": {},
   "source": [
    "# Book Recommendation System "
   ]
  },
  {
   "cell_type": "markdown",
   "id": "88d0df6a-afaa-40b1-88a8-9c829222322a",
   "metadata": {},
   "source": [
    "![Alt Text](books_recs_cover.png)\n"
   ]
  },
  {
   "cell_type": "markdown",
   "id": "355c523b-38e2-4e88-9695-339f7a6bd548",
   "metadata": {},
   "source": [
    "------------"
   ]
  },
  {
   "cell_type": "markdown",
   "id": "7e1774f5-c4e8-48fb-949e-83f2913c9394",
   "metadata": {},
   "source": [
    "## Step 1 : Import Libraries and Load Data :"
   ]
  },
  {
   "cell_type": "code",
   "execution_count": 4,
   "id": "c8d48452-07af-4cb8-9ae2-f8e84bd86a1e",
   "metadata": {},
   "outputs": [],
   "source": [
    "#Basic Libraries\n",
    "import numpy as np\n",
    "import pandas as pd\n",
    "\n",
    "#Visualization Libraries\n",
    "import matplotlib.pyplot as plt\n",
    "import seaborn as sns\n",
    "import plotly.express as px\n",
    "\n",
    "#Text Handling Libraries\n",
    "import re\n",
    "from sklearn.feature_extraction.text import CountVectorizer\n",
    "from sklearn.metrics.pairwise import cosine_similarity"
   ]
  },
  {
   "cell_type": "code",
   "execution_count": 5,
   "id": "288ca66b-0281-4b74-aa2d-6a2ee7622838",
   "metadata": {},
   "outputs": [
    {
     "name": "stdout",
     "output_type": "stream",
     "text": [
      "(6810, 12)\n"
     ]
    }
   ],
   "source": [
    "# let's load the movie dataset :\n",
    "books = pd.read_csv(\"E:/book prediction data/data.csv\")\n",
    "print(books.shape)"
   ]
  },
  {
   "cell_type": "code",
   "execution_count": 6,
   "id": "1e0ec40b-00ea-4906-a4e4-20d80888ad04",
   "metadata": {},
   "outputs": [
    {
     "data": {
      "text/html": [
       "<div>\n",
       "<style scoped>\n",
       "    .dataframe tbody tr th:only-of-type {\n",
       "        vertical-align: middle;\n",
       "    }\n",
       "\n",
       "    .dataframe tbody tr th {\n",
       "        vertical-align: top;\n",
       "    }\n",
       "\n",
       "    .dataframe thead th {\n",
       "        text-align: right;\n",
       "    }\n",
       "</style>\n",
       "<table border=\"1\" class=\"dataframe\">\n",
       "  <thead>\n",
       "    <tr style=\"text-align: right;\">\n",
       "      <th></th>\n",
       "      <th>isbn13</th>\n",
       "      <th>isbn10</th>\n",
       "      <th>title</th>\n",
       "      <th>subtitle</th>\n",
       "      <th>authors</th>\n",
       "      <th>categories</th>\n",
       "      <th>thumbnail</th>\n",
       "      <th>description</th>\n",
       "      <th>published_year</th>\n",
       "      <th>average_rating</th>\n",
       "      <th>num_pages</th>\n",
       "      <th>ratings_count</th>\n",
       "    </tr>\n",
       "  </thead>\n",
       "  <tbody>\n",
       "    <tr>\n",
       "      <th>0</th>\n",
       "      <td>9.780000e+12</td>\n",
       "      <td>2005883</td>\n",
       "      <td>Gilead</td>\n",
       "      <td>NaN</td>\n",
       "      <td>Marilynne Robinson</td>\n",
       "      <td>Fiction</td>\n",
       "      <td>http://books.google.com/books/content?id=KQZCP...</td>\n",
       "      <td>A NOVEL THAT READERS and critics have been eag...</td>\n",
       "      <td>2004.0</td>\n",
       "      <td>3.85</td>\n",
       "      <td>247.0</td>\n",
       "      <td>361.0</td>\n",
       "    </tr>\n",
       "    <tr>\n",
       "      <th>1</th>\n",
       "      <td>9.780000e+12</td>\n",
       "      <td>2261987</td>\n",
       "      <td>Spider's Web</td>\n",
       "      <td>A Novel</td>\n",
       "      <td>Charles Osborne;Agatha Christie</td>\n",
       "      <td>Detective and mystery stories</td>\n",
       "      <td>http://books.google.com/books/content?id=gA5GP...</td>\n",
       "      <td>A new 'Christie for Christmas' -- a full-lengt...</td>\n",
       "      <td>2000.0</td>\n",
       "      <td>3.83</td>\n",
       "      <td>241.0</td>\n",
       "      <td>5164.0</td>\n",
       "    </tr>\n",
       "    <tr>\n",
       "      <th>2</th>\n",
       "      <td>9.780010e+12</td>\n",
       "      <td>6163831</td>\n",
       "      <td>The One Tree</td>\n",
       "      <td>NaN</td>\n",
       "      <td>Stephen R. Donaldson</td>\n",
       "      <td>American fiction</td>\n",
       "      <td>http://books.google.com/books/content?id=OmQaw...</td>\n",
       "      <td>Volume Two of Stephen Donaldson's acclaimed se...</td>\n",
       "      <td>1982.0</td>\n",
       "      <td>3.97</td>\n",
       "      <td>479.0</td>\n",
       "      <td>172.0</td>\n",
       "    </tr>\n",
       "    <tr>\n",
       "      <th>3</th>\n",
       "      <td>9.780010e+12</td>\n",
       "      <td>6178731</td>\n",
       "      <td>Rage of angels</td>\n",
       "      <td>NaN</td>\n",
       "      <td>Sidney Sheldon</td>\n",
       "      <td>Fiction</td>\n",
       "      <td>http://books.google.com/books/content?id=FKo2T...</td>\n",
       "      <td>A memorable, mesmerizing heroine Jennifer -- b...</td>\n",
       "      <td>1993.0</td>\n",
       "      <td>3.93</td>\n",
       "      <td>512.0</td>\n",
       "      <td>29532.0</td>\n",
       "    </tr>\n",
       "    <tr>\n",
       "      <th>4</th>\n",
       "      <td>9.780010e+12</td>\n",
       "      <td>6280897</td>\n",
       "      <td>The Four Loves</td>\n",
       "      <td>NaN</td>\n",
       "      <td>Clive Staples Lewis</td>\n",
       "      <td>Christian life</td>\n",
       "      <td>http://books.google.com/books/content?id=XhQ5X...</td>\n",
       "      <td>Lewis' work on the nature of love divides love...</td>\n",
       "      <td>2002.0</td>\n",
       "      <td>4.15</td>\n",
       "      <td>170.0</td>\n",
       "      <td>33684.0</td>\n",
       "    </tr>\n",
       "  </tbody>\n",
       "</table>\n",
       "</div>"
      ],
      "text/plain": [
       "         isbn13   isbn10           title subtitle  \\\n",
       "0  9.780000e+12  2005883          Gilead      NaN   \n",
       "1  9.780000e+12  2261987    Spider's Web  A Novel   \n",
       "2  9.780010e+12  6163831    The One Tree      NaN   \n",
       "3  9.780010e+12  6178731  Rage of angels      NaN   \n",
       "4  9.780010e+12  6280897  The Four Loves      NaN   \n",
       "\n",
       "                           authors                     categories  \\\n",
       "0               Marilynne Robinson                        Fiction   \n",
       "1  Charles Osborne;Agatha Christie  Detective and mystery stories   \n",
       "2             Stephen R. Donaldson               American fiction   \n",
       "3                   Sidney Sheldon                        Fiction   \n",
       "4              Clive Staples Lewis                 Christian life   \n",
       "\n",
       "                                           thumbnail  \\\n",
       "0  http://books.google.com/books/content?id=KQZCP...   \n",
       "1  http://books.google.com/books/content?id=gA5GP...   \n",
       "2  http://books.google.com/books/content?id=OmQaw...   \n",
       "3  http://books.google.com/books/content?id=FKo2T...   \n",
       "4  http://books.google.com/books/content?id=XhQ5X...   \n",
       "\n",
       "                                         description  published_year  \\\n",
       "0  A NOVEL THAT READERS and critics have been eag...          2004.0   \n",
       "1  A new 'Christie for Christmas' -- a full-lengt...          2000.0   \n",
       "2  Volume Two of Stephen Donaldson's acclaimed se...          1982.0   \n",
       "3  A memorable, mesmerizing heroine Jennifer -- b...          1993.0   \n",
       "4  Lewis' work on the nature of love divides love...          2002.0   \n",
       "\n",
       "   average_rating  num_pages  ratings_count  \n",
       "0            3.85      247.0          361.0  \n",
       "1            3.83      241.0         5164.0  \n",
       "2            3.97      479.0          172.0  \n",
       "3            3.93      512.0        29532.0  \n",
       "4            4.15      170.0        33684.0  "
      ]
     },
     "execution_count": 6,
     "metadata": {},
     "output_type": "execute_result"
    }
   ],
   "source": [
    "books.head()"
   ]
  },
  {
   "cell_type": "markdown",
   "id": "ca406866-6d75-4dfc-86c1-2d13337cd9e3",
   "metadata": {},
   "source": [
    "------------"
   ]
  },
  {
   "cell_type": "markdown",
   "id": "35781f6c-b001-48e0-a1ea-e8c2905e9599",
   "metadata": {},
   "source": [
    "## Step 2 : Data Overview & Cleaning:"
   ]
  },
  {
   "cell_type": "code",
   "execution_count": 8,
   "id": "3086867c-12c1-4557-914f-97c7ac8f5420",
   "metadata": {},
   "outputs": [
    {
     "name": "stdout",
     "output_type": "stream",
     "text": [
      "<class 'pandas.core.frame.DataFrame'>\n",
      "RangeIndex: 6810 entries, 0 to 6809\n",
      "Data columns (total 12 columns):\n",
      " #   Column          Non-Null Count  Dtype  \n",
      "---  ------          --------------  -----  \n",
      " 0   isbn13          6810 non-null   float64\n",
      " 1   isbn10          6810 non-null   object \n",
      " 2   title           6810 non-null   object \n",
      " 3   subtitle        2381 non-null   object \n",
      " 4   authors         6738 non-null   object \n",
      " 5   categories      6711 non-null   object \n",
      " 6   thumbnail       6481 non-null   object \n",
      " 7   description     6548 non-null   object \n",
      " 8   published_year  6804 non-null   float64\n",
      " 9   average_rating  6767 non-null   float64\n",
      " 10  num_pages       6767 non-null   float64\n",
      " 11  ratings_count   6767 non-null   float64\n",
      "dtypes: float64(5), object(7)\n",
      "memory usage: 638.6+ KB\n"
     ]
    }
   ],
   "source": [
    "books.info()"
   ]
  },
  {
   "cell_type": "code",
   "execution_count": 9,
   "id": "abb34ebc-529a-4d82-ac3c-56672910b8fd",
   "metadata": {},
   "outputs": [
    {
     "name": "stdout",
     "output_type": "stream",
     "text": [
      "========================================\n",
      "Null values count in each column :\n",
      "========================================\n",
      "isbn13               0\n",
      "isbn10               0\n",
      "title                0\n",
      "subtitle          4429\n",
      "authors             72\n",
      "categories          99\n",
      "thumbnail          329\n",
      "description        262\n",
      "published_year       6\n",
      "average_rating      43\n",
      "num_pages           43\n",
      "ratings_count       43\n",
      "dtype: int64\n",
      "========================================\n",
      "Percentage of null values in each column :\n",
      "========================================\n",
      "isbn13 : 0.00%\n",
      "isbn10 : 0.00%\n",
      "title : 0.00%\n",
      "subtitle : 65.04%\n",
      "authors : 1.06%\n",
      "categories : 1.45%\n",
      "thumbnail : 4.83%\n",
      "description : 3.85%\n",
      "published_year : 0.09%\n",
      "average_rating : 0.63%\n",
      "num_pages : 0.63%\n",
      "ratings_count : 0.63%\n"
     ]
    }
   ],
   "source": [
    "# Let's see how much null values are there in the dataset:\n",
    "print('='*40)\n",
    "print('Null values count in each column :')\n",
    "print('='*40)\n",
    "print(books.isnull().sum())\n",
    "print('='*40)\n",
    "print('Percentage of null values in each column :')\n",
    "print('='*40)\n",
    "for col in books.columns:\n",
    "    null_count = books[col].isnull().sum()\n",
    "    total_values = books.shape[0]\n",
    "    print('{} : {:.2f}%'.format(col,null_count/total_values*100))"
   ]
  },
  {
   "cell_type": "markdown",
   "id": "8b9dc4d8-50a5-431e-a517-6da0de7d6136",
   "metadata": {},
   "source": [
    "### We have 65% null values in subtitle column, which is easily understandable because not all books have subitles.\n",
    "### We also have 4.8% and 3.8% null values in thumbnail and description column."
   ]
  },
  {
   "cell_type": "markdown",
   "id": "5a4adb68-f1c4-43b3-9ca3-c5a3277927d3",
   "metadata": {},
   "source": [
    "--------------------------------------------------------------------------------------------------------------------------------------------------------"
   ]
  },
  {
   "cell_type": "code",
   "execution_count": 12,
   "id": "ae43376d-8216-4ed7-bd4c-643ee7a1842d",
   "metadata": {},
   "outputs": [],
   "source": [
    "# Merge the title column with the subtitle :\n",
    "books['title'] = books['title'].fillna('') + books['subtitle'].fillna('').apply(lambda x: f\": {x}\" if x else '')"
   ]
  },
  {
   "cell_type": "code",
   "execution_count": 13,
   "id": "a806393f-9064-4b54-8ab5-de4711031b8b",
   "metadata": {},
   "outputs": [
    {
     "data": {
      "text/html": [
       "<div>\n",
       "<style scoped>\n",
       "    .dataframe tbody tr th:only-of-type {\n",
       "        vertical-align: middle;\n",
       "    }\n",
       "\n",
       "    .dataframe tbody tr th {\n",
       "        vertical-align: top;\n",
       "    }\n",
       "\n",
       "    .dataframe thead th {\n",
       "        text-align: right;\n",
       "    }\n",
       "</style>\n",
       "<table border=\"1\" class=\"dataframe\">\n",
       "  <thead>\n",
       "    <tr style=\"text-align: right;\">\n",
       "      <th></th>\n",
       "      <th>isbn13</th>\n",
       "      <th>isbn10</th>\n",
       "      <th>title</th>\n",
       "      <th>subtitle</th>\n",
       "      <th>authors</th>\n",
       "      <th>categories</th>\n",
       "      <th>thumbnail</th>\n",
       "      <th>description</th>\n",
       "      <th>published_year</th>\n",
       "      <th>average_rating</th>\n",
       "      <th>num_pages</th>\n",
       "      <th>ratings_count</th>\n",
       "    </tr>\n",
       "  </thead>\n",
       "  <tbody>\n",
       "    <tr>\n",
       "      <th>0</th>\n",
       "      <td>9.780000e+12</td>\n",
       "      <td>2005883</td>\n",
       "      <td>Gilead</td>\n",
       "      <td>NaN</td>\n",
       "      <td>Marilynne Robinson</td>\n",
       "      <td>Fiction</td>\n",
       "      <td>http://books.google.com/books/content?id=KQZCP...</td>\n",
       "      <td>A NOVEL THAT READERS and critics have been eag...</td>\n",
       "      <td>2004.0</td>\n",
       "      <td>3.85</td>\n",
       "      <td>247.0</td>\n",
       "      <td>361.0</td>\n",
       "    </tr>\n",
       "    <tr>\n",
       "      <th>1</th>\n",
       "      <td>9.780000e+12</td>\n",
       "      <td>2261987</td>\n",
       "      <td>Spider's Web: A Novel</td>\n",
       "      <td>A Novel</td>\n",
       "      <td>Charles Osborne;Agatha Christie</td>\n",
       "      <td>Detective and mystery stories</td>\n",
       "      <td>http://books.google.com/books/content?id=gA5GP...</td>\n",
       "      <td>A new 'Christie for Christmas' -- a full-lengt...</td>\n",
       "      <td>2000.0</td>\n",
       "      <td>3.83</td>\n",
       "      <td>241.0</td>\n",
       "      <td>5164.0</td>\n",
       "    </tr>\n",
       "  </tbody>\n",
       "</table>\n",
       "</div>"
      ],
      "text/plain": [
       "         isbn13   isbn10                  title subtitle  \\\n",
       "0  9.780000e+12  2005883                 Gilead      NaN   \n",
       "1  9.780000e+12  2261987  Spider's Web: A Novel  A Novel   \n",
       "\n",
       "                           authors                     categories  \\\n",
       "0               Marilynne Robinson                        Fiction   \n",
       "1  Charles Osborne;Agatha Christie  Detective and mystery stories   \n",
       "\n",
       "                                           thumbnail  \\\n",
       "0  http://books.google.com/books/content?id=KQZCP...   \n",
       "1  http://books.google.com/books/content?id=gA5GP...   \n",
       "\n",
       "                                         description  published_year  \\\n",
       "0  A NOVEL THAT READERS and critics have been eag...          2004.0   \n",
       "1  A new 'Christie for Christmas' -- a full-lengt...          2000.0   \n",
       "\n",
       "   average_rating  num_pages  ratings_count  \n",
       "0            3.85      247.0          361.0  \n",
       "1            3.83      241.0         5164.0  "
      ]
     },
     "execution_count": 13,
     "metadata": {},
     "output_type": "execute_result"
    }
   ],
   "source": [
    "books.head(2)"
   ]
  },
  {
   "cell_type": "code",
   "execution_count": 14,
   "id": "da47adc0-1aff-4c7e-bb61-0dc7dade253c",
   "metadata": {},
   "outputs": [],
   "source": [
    "# drop the subtitle and isbn13 column :\n",
    "books = books.drop(columns =['subtitle','isbn13'])"
   ]
  },
  {
   "cell_type": "code",
   "execution_count": 15,
   "id": "3ab04d7b-3b4b-4139-9431-56eeac304e15",
   "metadata": {},
   "outputs": [],
   "source": [
    "# Drop the null values :\n",
    "books = books.dropna()"
   ]
  },
  {
   "cell_type": "code",
   "execution_count": 16,
   "id": "fdf655a7-7a44-4855-a3b7-a903cc71b7cc",
   "metadata": {},
   "outputs": [
    {
     "data": {
      "text/plain": [
       "(6215, 10)"
      ]
     },
     "execution_count": 16,
     "metadata": {},
     "output_type": "execute_result"
    }
   ],
   "source": [
    "books.shape"
   ]
  },
  {
   "cell_type": "markdown",
   "id": "6ec3bd9a-c379-478c-aeec-84307ffbed69",
   "metadata": {},
   "source": [
    "### we had almost 600 rows with missing data"
   ]
  },
  {
   "cell_type": "code",
   "execution_count": 18,
   "id": "3b42b077-f42f-429b-b16d-e9a2f0c78821",
   "metadata": {},
   "outputs": [
    {
     "name": "stdout",
     "output_type": "stream",
     "text": [
      "Number of duplicate rows: 111\n"
     ]
    }
   ],
   "source": [
    "# Check & Remove duplicate books :\n",
    "duplicates = books.duplicated(subset = ['title','authors']).sum()\n",
    "print(f\"Number of duplicate rows: {duplicates}\")"
   ]
  },
  {
   "cell_type": "code",
   "execution_count": 19,
   "id": "b4a625f4-0c20-46fb-ac18-d17ac54cc692",
   "metadata": {},
   "outputs": [],
   "source": [
    "# Drop duplicates and keep the one with the highest 'ratings_count'\n",
    "books = books.loc[books.groupby(['title', 'authors'])['ratings_count'].idxmax()].reset_index(drop= True)"
   ]
  },
  {
   "cell_type": "code",
   "execution_count": 20,
   "id": "0da146af-55db-41ea-aa79-41201822551e",
   "metadata": {},
   "outputs": [
    {
     "data": {
      "text/html": [
       "<div>\n",
       "<style scoped>\n",
       "    .dataframe tbody tr th:only-of-type {\n",
       "        vertical-align: middle;\n",
       "    }\n",
       "\n",
       "    .dataframe tbody tr th {\n",
       "        vertical-align: top;\n",
       "    }\n",
       "\n",
       "    .dataframe thead th {\n",
       "        text-align: right;\n",
       "    }\n",
       "</style>\n",
       "<table border=\"1\" class=\"dataframe\">\n",
       "  <thead>\n",
       "    <tr style=\"text-align: right;\">\n",
       "      <th></th>\n",
       "      <th>isbn10</th>\n",
       "      <th>title</th>\n",
       "      <th>authors</th>\n",
       "      <th>categories</th>\n",
       "      <th>thumbnail</th>\n",
       "      <th>description</th>\n",
       "      <th>published_year</th>\n",
       "      <th>average_rating</th>\n",
       "      <th>num_pages</th>\n",
       "      <th>ratings_count</th>\n",
       "    </tr>\n",
       "  </thead>\n",
       "  <tbody>\n",
       "    <tr>\n",
       "      <th>0</th>\n",
       "      <td>310243564</td>\n",
       "      <td>\"A\" is for Abductive: The Language of the Emer...</td>\n",
       "      <td>Leonard I. Sweet;Brian D. McLaren;Jerry Haselm...</td>\n",
       "      <td>Religion</td>\n",
       "      <td>http://books.google.com/books/content?id=y408k...</td>\n",
       "      <td>A Is for Abductive B is for Body C is for Carp...</td>\n",
       "      <td>2003.0</td>\n",
       "      <td>3.17</td>\n",
       "      <td>338.0</td>\n",
       "      <td>48.0</td>\n",
       "    </tr>\n",
       "    <tr>\n",
       "      <th>1</th>\n",
       "      <td>801435307</td>\n",
       "      <td>\"Gorgias\" and \"Phaedrus\": Rhetoric, Philosophy...</td>\n",
       "      <td>Plato</td>\n",
       "      <td>Philosophy</td>\n",
       "      <td>http://books.google.com/books/content?id=vBmKQ...</td>\n",
       "      <td>With a masterful sense of the place of rhetori...</td>\n",
       "      <td>1998.0</td>\n",
       "      <td>4.41</td>\n",
       "      <td>233.0</td>\n",
       "      <td>15.0</td>\n",
       "    </tr>\n",
       "    <tr>\n",
       "      <th>2</th>\n",
       "      <td>393316041</td>\n",
       "      <td>\"Surely You're Joking, Mr. Feynman!\": Adventur...</td>\n",
       "      <td>Richard Phillips Feynman;Ralph Leighton</td>\n",
       "      <td>Biography &amp; Autobiography</td>\n",
       "      <td>http://books.google.com/books/content?id=ZRoF9...</td>\n",
       "      <td>The Nobel Prize-winning theoretical physicist ...</td>\n",
       "      <td>1985.0</td>\n",
       "      <td>4.28</td>\n",
       "      <td>391.0</td>\n",
       "      <td>105685.0</td>\n",
       "    </tr>\n",
       "    <tr>\n",
       "      <th>3</th>\n",
       "      <td>393320928</td>\n",
       "      <td>\"What Do You Care what Other People Think?\": F...</td>\n",
       "      <td>Richard Phillips Feynman;Ralph Leighton</td>\n",
       "      <td>BIOGRAPHY &amp; AUTOBIOGRAPHY</td>\n",
       "      <td>http://books.google.com/books/content?id=LUrJI...</td>\n",
       "      <td>This two-part profile of the late Nobel Prize-...</td>\n",
       "      <td>2001.0</td>\n",
       "      <td>4.27</td>\n",
       "      <td>256.0</td>\n",
       "      <td>15646.0</td>\n",
       "    </tr>\n",
       "    <tr>\n",
       "      <th>4</th>\n",
       "      <td>1592000673</td>\n",
       "      <td>$30 Film School</td>\n",
       "      <td>Michael Wareham Dean</td>\n",
       "      <td>Computers</td>\n",
       "      <td>http://books.google.com/books/content?id=MwSM8...</td>\n",
       "      <td>Demonstrating how to make a film with the help...</td>\n",
       "      <td>2003.0</td>\n",
       "      <td>3.52</td>\n",
       "      <td>528.0</td>\n",
       "      <td>29.0</td>\n",
       "    </tr>\n",
       "  </tbody>\n",
       "</table>\n",
       "</div>"
      ],
      "text/plain": [
       "       isbn10                                              title  \\\n",
       "0   310243564  \"A\" is for Abductive: The Language of the Emer...   \n",
       "1   801435307  \"Gorgias\" and \"Phaedrus\": Rhetoric, Philosophy...   \n",
       "2   393316041  \"Surely You're Joking, Mr. Feynman!\": Adventur...   \n",
       "3   393320928  \"What Do You Care what Other People Think?\": F...   \n",
       "4  1592000673                                    $30 Film School   \n",
       "\n",
       "                                             authors  \\\n",
       "0  Leonard I. Sweet;Brian D. McLaren;Jerry Haselm...   \n",
       "1                                              Plato   \n",
       "2            Richard Phillips Feynman;Ralph Leighton   \n",
       "3            Richard Phillips Feynman;Ralph Leighton   \n",
       "4                               Michael Wareham Dean   \n",
       "\n",
       "                  categories  \\\n",
       "0                   Religion   \n",
       "1                 Philosophy   \n",
       "2  Biography & Autobiography   \n",
       "3  BIOGRAPHY & AUTOBIOGRAPHY   \n",
       "4                  Computers   \n",
       "\n",
       "                                           thumbnail  \\\n",
       "0  http://books.google.com/books/content?id=y408k...   \n",
       "1  http://books.google.com/books/content?id=vBmKQ...   \n",
       "2  http://books.google.com/books/content?id=ZRoF9...   \n",
       "3  http://books.google.com/books/content?id=LUrJI...   \n",
       "4  http://books.google.com/books/content?id=MwSM8...   \n",
       "\n",
       "                                         description  published_year  \\\n",
       "0  A Is for Abductive B is for Body C is for Carp...          2003.0   \n",
       "1  With a masterful sense of the place of rhetori...          1998.0   \n",
       "2  The Nobel Prize-winning theoretical physicist ...          1985.0   \n",
       "3  This two-part profile of the late Nobel Prize-...          2001.0   \n",
       "4  Demonstrating how to make a film with the help...          2003.0   \n",
       "\n",
       "   average_rating  num_pages  ratings_count  \n",
       "0            3.17      338.0           48.0  \n",
       "1            4.41      233.0           15.0  \n",
       "2            4.28      391.0       105685.0  \n",
       "3            4.27      256.0        15646.0  \n",
       "4            3.52      528.0           29.0  "
      ]
     },
     "execution_count": 20,
     "metadata": {},
     "output_type": "execute_result"
    }
   ],
   "source": [
    "books.head()"
   ]
  },
  {
   "cell_type": "code",
   "execution_count": 21,
   "id": "8f21efc8-dcc1-498d-92f2-de201f52fb0f",
   "metadata": {},
   "outputs": [
    {
     "data": {
      "text/plain": [
       "isbn10             object\n",
       "title              object\n",
       "authors            object\n",
       "categories         object\n",
       "thumbnail          object\n",
       "description        object\n",
       "published_year    float64\n",
       "average_rating    float64\n",
       "num_pages         float64\n",
       "ratings_count     float64\n",
       "dtype: object"
      ]
     },
     "execution_count": 21,
     "metadata": {},
     "output_type": "execute_result"
    }
   ],
   "source": [
    "# Check the datatypes of the columns :\n",
    "books.dtypes"
   ]
  },
  {
   "cell_type": "code",
   "execution_count": 22,
   "id": "d4966da8-56d7-499d-8809-0294b082896a",
   "metadata": {},
   "outputs": [],
   "source": [
    "# Change the datatype of published_year, num_pages and ratings_count into integer:\n",
    "books['published_year'] = books['published_year'].astype(int)\n",
    "books['num_pages'] = books['num_pages'].astype(int)\n",
    "books['ratings_count'] = books['ratings_count'].astype(int)"
   ]
  },
  {
   "cell_type": "code",
   "execution_count": 23,
   "id": "aed10848-c72e-4575-9473-d04ebc988eaa",
   "metadata": {},
   "outputs": [
    {
     "data": {
      "text/plain": [
       "isbn10             object\n",
       "title              object\n",
       "authors            object\n",
       "categories         object\n",
       "thumbnail          object\n",
       "description        object\n",
       "published_year      int32\n",
       "average_rating    float64\n",
       "num_pages           int32\n",
       "ratings_count       int32\n",
       "dtype: object"
      ]
     },
     "execution_count": 23,
     "metadata": {},
     "output_type": "execute_result"
    }
   ],
   "source": [
    "# Check the datatype again:\n",
    "books.dtypes"
   ]
  },
  {
   "cell_type": "markdown",
   "id": "008f1b34-b03f-47cd-89be-0500375c533a",
   "metadata": {},
   "source": [
    "## Step 3 : Exploratory Data Analysis:"
   ]
  },
  {
   "cell_type": "markdown",
   "id": "d2578900-c668-489f-aab5-09e4c79b3341",
   "metadata": {},
   "source": [
    "### Univariate Analysis : "
   ]
  },
  {
   "cell_type": "code",
   "execution_count": 26,
   "id": "10efcca7-0c4b-49c8-8248-ca41f0848ea1",
   "metadata": {},
   "outputs": [
    {
     "data": {
      "text/html": [
       "<div>\n",
       "<style scoped>\n",
       "    .dataframe tbody tr th:only-of-type {\n",
       "        vertical-align: middle;\n",
       "    }\n",
       "\n",
       "    .dataframe tbody tr th {\n",
       "        vertical-align: top;\n",
       "    }\n",
       "\n",
       "    .dataframe thead th {\n",
       "        text-align: right;\n",
       "    }\n",
       "</style>\n",
       "<table border=\"1\" class=\"dataframe\">\n",
       "  <thead>\n",
       "    <tr style=\"text-align: right;\">\n",
       "      <th></th>\n",
       "      <th>title</th>\n",
       "      <th>average_rating</th>\n",
       "      <th>authors</th>\n",
       "      <th>ratings_count</th>\n",
       "    </tr>\n",
       "  </thead>\n",
       "  <tbody>\n",
       "    <tr>\n",
       "      <th>4630</th>\n",
       "      <td>The Irish Anatomist: A Study of Flann O'Brien</td>\n",
       "      <td>5.00</td>\n",
       "      <td>Keith Donohue</td>\n",
       "      <td>1</td>\n",
       "    </tr>\n",
       "    <tr>\n",
       "      <th>2037</th>\n",
       "      <td>Insights: Talks on the Nature of Existence</td>\n",
       "      <td>5.00</td>\n",
       "      <td>Frederick Lenz</td>\n",
       "      <td>1</td>\n",
       "    </tr>\n",
       "    <tr>\n",
       "      <th>4292</th>\n",
       "      <td>The Diamond Color Meditation: Color Pathway to...</td>\n",
       "      <td>5.00</td>\n",
       "      <td>John Diamond</td>\n",
       "      <td>5</td>\n",
       "    </tr>\n",
       "    <tr>\n",
       "      <th>2256</th>\n",
       "      <td>Lake Orion</td>\n",
       "      <td>5.00</td>\n",
       "      <td>James E. Ingram;Lori Grove</td>\n",
       "      <td>0</td>\n",
       "    </tr>\n",
       "    <tr>\n",
       "      <th>1416</th>\n",
       "      <td>Fanning the Flame: Bible, Cross &amp; Mission : Me...</td>\n",
       "      <td>5.00</td>\n",
       "      <td>Christopher J. H. Wright</td>\n",
       "      <td>1</td>\n",
       "    </tr>\n",
       "    <tr>\n",
       "      <th>912</th>\n",
       "      <td>Colossians and Philemon</td>\n",
       "      <td>5.00</td>\n",
       "      <td>Robert McL Wilson</td>\n",
       "      <td>1</td>\n",
       "    </tr>\n",
       "    <tr>\n",
       "      <th>1272</th>\n",
       "      <td>Ecuador Nature Guide: Southwest Forests : Sozo...</td>\n",
       "      <td>5.00</td>\n",
       "      <td>Christopher D. Jiggins</td>\n",
       "      <td>1</td>\n",
       "    </tr>\n",
       "    <tr>\n",
       "      <th>569</th>\n",
       "      <td>Bill Gates: Computer Legend</td>\n",
       "      <td>5.00</td>\n",
       "      <td>Sara Barton-Wood</td>\n",
       "      <td>0</td>\n",
       "    </tr>\n",
       "    <tr>\n",
       "      <th>4194</th>\n",
       "      <td>The Complete Theory Fun Factory</td>\n",
       "      <td>5.00</td>\n",
       "      <td>Katie Elliott;Ian Martin</td>\n",
       "      <td>1</td>\n",
       "    </tr>\n",
       "    <tr>\n",
       "      <th>1384</th>\n",
       "      <td>Existential Meditation</td>\n",
       "      <td>4.91</td>\n",
       "      <td>Simon Cleveland</td>\n",
       "      <td>11</td>\n",
       "    </tr>\n",
       "  </tbody>\n",
       "</table>\n",
       "</div>"
      ],
      "text/plain": [
       "                                                  title  average_rating  \\\n",
       "4630      The Irish Anatomist: A Study of Flann O'Brien            5.00   \n",
       "2037         Insights: Talks on the Nature of Existence            5.00   \n",
       "4292  The Diamond Color Meditation: Color Pathway to...            5.00   \n",
       "2256                                         Lake Orion            5.00   \n",
       "1416  Fanning the Flame: Bible, Cross & Mission : Me...            5.00   \n",
       "912                             Colossians and Philemon            5.00   \n",
       "1272  Ecuador Nature Guide: Southwest Forests : Sozo...            5.00   \n",
       "569                         Bill Gates: Computer Legend            5.00   \n",
       "4194                    The Complete Theory Fun Factory            5.00   \n",
       "1384                             Existential Meditation            4.91   \n",
       "\n",
       "                         authors  ratings_count  \n",
       "4630               Keith Donohue              1  \n",
       "2037              Frederick Lenz              1  \n",
       "4292                John Diamond              5  \n",
       "2256  James E. Ingram;Lori Grove              0  \n",
       "1416    Christopher J. H. Wright              1  \n",
       "912            Robert McL Wilson              1  \n",
       "1272      Christopher D. Jiggins              1  \n",
       "569             Sara Barton-Wood              0  \n",
       "4194    Katie Elliott;Ian Martin              1  \n",
       "1384             Simon Cleveland             11  "
      ]
     },
     "execution_count": 26,
     "metadata": {},
     "output_type": "execute_result"
    }
   ],
   "source": [
    "# Top 10 books by average_rating:\n",
    "books.sort_values(by='average_rating',ascending=False).head(10)[['title','average_rating','authors','ratings_count']]"
   ]
  },
  {
   "cell_type": "markdown",
   "id": "43fcc3e7-9dc1-40aa-85fc-63555912dbb5",
   "metadata": {},
   "source": [
    "### Books with the highest average ratings might not be the top books overall, as they often have only a few ratings, which are mostly perfect scores."
   ]
  },
  {
   "cell_type": "code",
   "execution_count": 28,
   "id": "525791af-568d-468b-8fdb-ab3389f1ba22",
   "metadata": {},
   "outputs": [],
   "source": [
    "# Top 10 books by ratings_count:\n",
    "top_10_books = books.sort_values(by='ratings_count',ascending=False).head(10)[['title','ratings_count','authors','average_rating']]"
   ]
  },
  {
   "cell_type": "code",
   "execution_count": 29,
   "id": "7b4810a4-7cb2-4f83-9334-0e6bb7a3249f",
   "metadata": {},
   "outputs": [
    {
     "data": {
      "text/html": [
       "<div>\n",
       "<style scoped>\n",
       "    .dataframe tbody tr th:only-of-type {\n",
       "        vertical-align: middle;\n",
       "    }\n",
       "\n",
       "    .dataframe tbody tr th {\n",
       "        vertical-align: top;\n",
       "    }\n",
       "\n",
       "    .dataframe thead th {\n",
       "        text-align: right;\n",
       "    }\n",
       "</style>\n",
       "<table border=\"1\" class=\"dataframe\">\n",
       "  <thead>\n",
       "    <tr style=\"text-align: right;\">\n",
       "      <th></th>\n",
       "      <th>title</th>\n",
       "      <th>ratings_count</th>\n",
       "      <th>authors</th>\n",
       "      <th>average_rating</th>\n",
       "    </tr>\n",
       "  </thead>\n",
       "  <tbody>\n",
       "    <tr>\n",
       "      <th>1768</th>\n",
       "      <td>Harry Potter and the Sorcerer's Stone (Book 1)</td>\n",
       "      <td>5629932</td>\n",
       "      <td>Rowling, J.K.</td>\n",
       "      <td>4.47</td>\n",
       "    </tr>\n",
       "    <tr>\n",
       "      <th>4572</th>\n",
       "      <td>The Hobbit, Or, There and Back Again</td>\n",
       "      <td>2364968</td>\n",
       "      <td>John Ronald Reuel Tolkien</td>\n",
       "      <td>4.26</td>\n",
       "    </tr>\n",
       "    <tr>\n",
       "      <th>1767</th>\n",
       "      <td>Harry Potter and the Prisoner of Azkaban (Book 3)</td>\n",
       "      <td>2149872</td>\n",
       "      <td>Rowling, J.K.</td>\n",
       "      <td>4.55</td>\n",
       "    </tr>\n",
       "    <tr>\n",
       "      <th>1762</th>\n",
       "      <td>Harry Potter and the Chamber of Secrets (Book 2)</td>\n",
       "      <td>2115562</td>\n",
       "      <td>Rowling, J.K.</td>\n",
       "      <td>4.41</td>\n",
       "    </tr>\n",
       "    <tr>\n",
       "      <th>4404</th>\n",
       "      <td>The Fellowship of the Ring: Being the First Pa...</td>\n",
       "      <td>2009749</td>\n",
       "      <td>J. R. R. Tolkien</td>\n",
       "      <td>4.35</td>\n",
       "    </tr>\n",
       "    <tr>\n",
       "      <th>1765</th>\n",
       "      <td>Harry Potter and the Order of the Phoenix (Boo...</td>\n",
       "      <td>1996446</td>\n",
       "      <td>Rowling, J.K.</td>\n",
       "      <td>4.49</td>\n",
       "    </tr>\n",
       "    <tr>\n",
       "      <th>1764</th>\n",
       "      <td>Harry Potter and the Half-Blood Prince (Book 6)</td>\n",
       "      <td>1944099</td>\n",
       "      <td>Rowling, J.K.</td>\n",
       "      <td>4.56</td>\n",
       "    </tr>\n",
       "    <tr>\n",
       "      <th>3285</th>\n",
       "      <td>Romeo and Juliet</td>\n",
       "      <td>1811259</td>\n",
       "      <td>William Shakespeare</td>\n",
       "      <td>3.74</td>\n",
       "    </tr>\n",
       "    <tr>\n",
       "      <th>3856</th>\n",
       "      <td>The Alchemist</td>\n",
       "      <td>1592632</td>\n",
       "      <td>Paulo Coelho</td>\n",
       "      <td>3.85</td>\n",
       "    </tr>\n",
       "    <tr>\n",
       "      <th>3269</th>\n",
       "      <td>Robert Langdon Novels: The Da Vinci Code : a N...</td>\n",
       "      <td>1588890</td>\n",
       "      <td>Dan Brown</td>\n",
       "      <td>3.82</td>\n",
       "    </tr>\n",
       "  </tbody>\n",
       "</table>\n",
       "</div>"
      ],
      "text/plain": [
       "                                                  title  ratings_count  \\\n",
       "1768     Harry Potter and the Sorcerer's Stone (Book 1)        5629932   \n",
       "4572               The Hobbit, Or, There and Back Again        2364968   \n",
       "1767  Harry Potter and the Prisoner of Azkaban (Book 3)        2149872   \n",
       "1762   Harry Potter and the Chamber of Secrets (Book 2)        2115562   \n",
       "4404  The Fellowship of the Ring: Being the First Pa...        2009749   \n",
       "1765  Harry Potter and the Order of the Phoenix (Boo...        1996446   \n",
       "1764    Harry Potter and the Half-Blood Prince (Book 6)        1944099   \n",
       "3285                                   Romeo and Juliet        1811259   \n",
       "3856                                      The Alchemist        1592632   \n",
       "3269  Robert Langdon Novels: The Da Vinci Code : a N...        1588890   \n",
       "\n",
       "                        authors  average_rating  \n",
       "1768              Rowling, J.K.            4.47  \n",
       "4572  John Ronald Reuel Tolkien            4.26  \n",
       "1767              Rowling, J.K.            4.55  \n",
       "1762              Rowling, J.K.            4.41  \n",
       "4404           J. R. R. Tolkien            4.35  \n",
       "1765              Rowling, J.K.            4.49  \n",
       "1764              Rowling, J.K.            4.56  \n",
       "3285        William Shakespeare            3.74  \n",
       "3856               Paulo Coelho            3.85  \n",
       "3269                  Dan Brown            3.82  "
      ]
     },
     "execution_count": 29,
     "metadata": {},
     "output_type": "execute_result"
    }
   ],
   "source": [
    "top_10_books"
   ]
  },
  {
   "cell_type": "markdown",
   "id": "2513c639-66f2-46b1-964d-723afbf62d06",
   "metadata": {},
   "source": [
    "### Top books by ratings count on the other hand are the top books overall , because it have been read and rated by millions of people"
   ]
  },
  {
   "cell_type": "code",
   "execution_count": 31,
   "id": "b0031329-33b8-4dd3-9f7e-5c8b92adf9e4",
   "metadata": {},
   "outputs": [
    {
     "data": {
      "text/html": [
       "<div>\n",
       "<style scoped>\n",
       "    .dataframe tbody tr th:only-of-type {\n",
       "        vertical-align: middle;\n",
       "    }\n",
       "\n",
       "    .dataframe tbody tr th {\n",
       "        vertical-align: top;\n",
       "    }\n",
       "\n",
       "    .dataframe thead th {\n",
       "        text-align: right;\n",
       "    }\n",
       "</style>\n",
       "<table border=\"1\" class=\"dataframe\">\n",
       "  <thead>\n",
       "    <tr style=\"text-align: right;\">\n",
       "      <th></th>\n",
       "      <th>title</th>\n",
       "      <th>authors</th>\n",
       "      <th>ratings_count</th>\n",
       "      <th>average_rating</th>\n",
       "    </tr>\n",
       "  </thead>\n",
       "  <tbody>\n",
       "    <tr>\n",
       "      <th>0</th>\n",
       "      <td>Robert Langdon Novels: The Da Vinci Code : a N...</td>\n",
       "      <td>Dan Brown</td>\n",
       "      <td>1588890</td>\n",
       "      <td>3.82</td>\n",
       "    </tr>\n",
       "    <tr>\n",
       "      <th>1</th>\n",
       "      <td>The Da Vinci Code</td>\n",
       "      <td>Dan Brown</td>\n",
       "      <td>13789</td>\n",
       "      <td>3.82</td>\n",
       "    </tr>\n",
       "    <tr>\n",
       "      <th>2</th>\n",
       "      <td>Deception Point</td>\n",
       "      <td>Dan Brown</td>\n",
       "      <td>4864</td>\n",
       "      <td>3.70</td>\n",
       "    </tr>\n",
       "    <tr>\n",
       "      <th>3</th>\n",
       "      <td>The Fellowship of the Ring: Being the First Pa...</td>\n",
       "      <td>J. R. R. Tolkien</td>\n",
       "      <td>2009749</td>\n",
       "      <td>4.35</td>\n",
       "    </tr>\n",
       "    <tr>\n",
       "      <th>4</th>\n",
       "      <td>The Tolkien Reader</td>\n",
       "      <td>J. R. R. Tolkien</td>\n",
       "      <td>4092</td>\n",
       "      <td>3.99</td>\n",
       "    </tr>\n",
       "    <tr>\n",
       "      <th>5</th>\n",
       "      <td>The Lord of the Rings</td>\n",
       "      <td>J. R. R. Tolkien</td>\n",
       "      <td>550</td>\n",
       "      <td>4.49</td>\n",
       "    </tr>\n",
       "    <tr>\n",
       "      <th>6</th>\n",
       "      <td>The Hobbit, Or, There and Back Again</td>\n",
       "      <td>John Ronald Reuel Tolkien</td>\n",
       "      <td>2364968</td>\n",
       "      <td>4.26</td>\n",
       "    </tr>\n",
       "    <tr>\n",
       "      <th>7</th>\n",
       "      <td>The Fellowship of the Ring: Being the First Pa...</td>\n",
       "      <td>John Ronald Reuel Tolkien</td>\n",
       "      <td>532629</td>\n",
       "      <td>4.52</td>\n",
       "    </tr>\n",
       "    <tr>\n",
       "      <th>8</th>\n",
       "      <td>The Hobbit / The Lord of the Rings: The Hobbit...</td>\n",
       "      <td>John Ronald Reuel Tolkien</td>\n",
       "      <td>97731</td>\n",
       "      <td>4.59</td>\n",
       "    </tr>\n",
       "    <tr>\n",
       "      <th>9</th>\n",
       "      <td>The Alchemist</td>\n",
       "      <td>Paulo Coelho</td>\n",
       "      <td>1592632</td>\n",
       "      <td>3.85</td>\n",
       "    </tr>\n",
       "    <tr>\n",
       "      <th>10</th>\n",
       "      <td>Veronika Decides to Die: A Novel of Redemption</td>\n",
       "      <td>Paulo Coelho</td>\n",
       "      <td>126224</td>\n",
       "      <td>3.70</td>\n",
       "    </tr>\n",
       "    <tr>\n",
       "      <th>11</th>\n",
       "      <td>Eleven Minutes: A Novel</td>\n",
       "      <td>Paulo Coelho</td>\n",
       "      <td>114826</td>\n",
       "      <td>3.69</td>\n",
       "    </tr>\n",
       "    <tr>\n",
       "      <th>12</th>\n",
       "      <td>Harry Potter and the Sorcerer's Stone (Book 1)</td>\n",
       "      <td>Rowling, J.K.</td>\n",
       "      <td>5629932</td>\n",
       "      <td>4.47</td>\n",
       "    </tr>\n",
       "    <tr>\n",
       "      <th>13</th>\n",
       "      <td>Harry Potter and the Prisoner of Azkaban (Book 3)</td>\n",
       "      <td>Rowling, J.K.</td>\n",
       "      <td>2149872</td>\n",
       "      <td>4.55</td>\n",
       "    </tr>\n",
       "    <tr>\n",
       "      <th>14</th>\n",
       "      <td>Harry Potter and the Chamber of Secrets (Book 2)</td>\n",
       "      <td>Rowling, J.K.</td>\n",
       "      <td>2115562</td>\n",
       "      <td>4.41</td>\n",
       "    </tr>\n",
       "    <tr>\n",
       "      <th>15</th>\n",
       "      <td>Romeo and Juliet</td>\n",
       "      <td>William Shakespeare</td>\n",
       "      <td>1811259</td>\n",
       "      <td>3.74</td>\n",
       "    </tr>\n",
       "    <tr>\n",
       "      <th>16</th>\n",
       "      <td>Hamlet</td>\n",
       "      <td>William Shakespeare</td>\n",
       "      <td>577429</td>\n",
       "      <td>4.01</td>\n",
       "    </tr>\n",
       "    <tr>\n",
       "      <th>17</th>\n",
       "      <td>Macbeth</td>\n",
       "      <td>William Shakespeare</td>\n",
       "      <td>560816</td>\n",
       "      <td>3.89</td>\n",
       "    </tr>\n",
       "  </tbody>\n",
       "</table>\n",
       "</div>"
      ],
      "text/plain": [
       "                                                title  \\\n",
       "0   Robert Langdon Novels: The Da Vinci Code : a N...   \n",
       "1                                   The Da Vinci Code   \n",
       "2                                     Deception Point   \n",
       "3   The Fellowship of the Ring: Being the First Pa...   \n",
       "4                                  The Tolkien Reader   \n",
       "5                               The Lord of the Rings   \n",
       "6                The Hobbit, Or, There and Back Again   \n",
       "7   The Fellowship of the Ring: Being the First Pa...   \n",
       "8   The Hobbit / The Lord of the Rings: The Hobbit...   \n",
       "9                                       The Alchemist   \n",
       "10     Veronika Decides to Die: A Novel of Redemption   \n",
       "11                            Eleven Minutes: A Novel   \n",
       "12     Harry Potter and the Sorcerer's Stone (Book 1)   \n",
       "13  Harry Potter and the Prisoner of Azkaban (Book 3)   \n",
       "14   Harry Potter and the Chamber of Secrets (Book 2)   \n",
       "15                                   Romeo and Juliet   \n",
       "16                                             Hamlet   \n",
       "17                                            Macbeth   \n",
       "\n",
       "                      authors  ratings_count  average_rating  \n",
       "0                   Dan Brown        1588890            3.82  \n",
       "1                   Dan Brown          13789            3.82  \n",
       "2                   Dan Brown           4864            3.70  \n",
       "3            J. R. R. Tolkien        2009749            4.35  \n",
       "4            J. R. R. Tolkien           4092            3.99  \n",
       "5            J. R. R. Tolkien            550            4.49  \n",
       "6   John Ronald Reuel Tolkien        2364968            4.26  \n",
       "7   John Ronald Reuel Tolkien         532629            4.52  \n",
       "8   John Ronald Reuel Tolkien          97731            4.59  \n",
       "9                Paulo Coelho        1592632            3.85  \n",
       "10               Paulo Coelho         126224            3.70  \n",
       "11               Paulo Coelho         114826            3.69  \n",
       "12              Rowling, J.K.        5629932            4.47  \n",
       "13              Rowling, J.K.        2149872            4.55  \n",
       "14              Rowling, J.K.        2115562            4.41  \n",
       "15        William Shakespeare        1811259            3.74  \n",
       "16        William Shakespeare         577429            4.01  \n",
       "17        William Shakespeare         560816            3.89  "
      ]
     },
     "execution_count": 31,
     "metadata": {},
     "output_type": "execute_result"
    }
   ],
   "source": [
    "# top 3 books by top 10 authors:\n",
    "top_3_books_per_author = (\n",
    "    books[books['authors'].isin(top_10_books['authors'])]\n",
    "    [['title', 'authors', 'ratings_count','average_rating']]\n",
    "    .sort_values(by=['authors', 'ratings_count'], ascending=[True, False])\n",
    "    .groupby('authors')\n",
    "    .head(3)\n",
    "    .reset_index(drop =True)\n",
    ")\n",
    "top_3_books_per_author"
   ]
  },
  {
   "cell_type": "code",
   "execution_count": 32,
   "id": "43e4df07-ddbc-4269-ae81-ceb624500b78",
   "metadata": {},
   "outputs": [
    {
     "data": {
      "text/plain": [
       "Text(0.5, 0, 'Rating')"
      ]
     },
     "execution_count": 32,
     "metadata": {},
     "output_type": "execute_result"
    },
    {
     "data": {
      "image/png": "[encoded data removed]",
      "text/plain": [
       "<Figure size 640x480 with 1 Axes>"
      ]
     },
     "metadata": {},
     "output_type": "display_data"
    }
   ],
   "source": [
    "# distribution of average rating :\n",
    "plt.hist(books['average_rating'], bins=20, color='blue', alpha=0.7)\n",
    "plt.title(\"Average Rating Distribution\")\n",
    "plt.xlabel('Rating')"
   ]
  },
  {
   "cell_type": "code",
   "execution_count": 33,
   "id": "0af4416d-eddb-47a4-9236-4d6963ed5a9a",
   "metadata": {},
   "outputs": [
    {
     "data": {
      "text/plain": [
       "average_rating\n",
       "(3, 4]    3521\n",
       "(4, 5]    2532\n",
       "(2, 3]      41\n",
       "(1, 2]       2\n",
       "(0, 1]       0\n",
       "Name: count, dtype: int64"
      ]
     },
     "execution_count": 33,
     "metadata": {},
     "output_type": "execute_result"
    }
   ],
   "source": [
    "# Categorize the average_rating into 5 bins: \n",
    "pd.cut(books['average_rating'],bins=[0,1,2,3,4,5]).value_counts()"
   ]
  },
  {
   "cell_type": "code",
   "execution_count": 34,
   "id": "56340965-f8b1-4039-8646-031f97664e59",
   "metadata": {},
   "outputs": [
    {
     "data": {
      "text/plain": [
       "ratings_count\n",
       "(0, 1200000]          6069\n",
       "(1200000, 2400000]      13\n",
       "(4800000, 6000000]       1\n",
       "(2400000, 3600000]       0\n",
       "(3600000, 4800000]       0\n",
       "Name: count, dtype: int64"
      ]
     },
     "execution_count": 34,
     "metadata": {},
     "output_type": "execute_result"
    }
   ],
   "source": [
    "# Categorize the average_rating into 5 bins: \n",
    "pd.cut(books['ratings_count'],bins=[0, 1_200_000, 2_400_000, 3_600_000, 4_800_000, 6_000_000]).value_counts()"
   ]
  },
  {
   "cell_type": "code",
   "execution_count": 35,
   "id": "5c747470-38ae-4b27-a2d4-3a49cdf134e8",
   "metadata": {},
   "outputs": [
    {
     "data": {
      "text/html": [
       "<div>\n",
       "<style scoped>\n",
       "    .dataframe tbody tr th:only-of-type {\n",
       "        vertical-align: middle;\n",
       "    }\n",
       "\n",
       "    .dataframe tbody tr th {\n",
       "        vertical-align: top;\n",
       "    }\n",
       "\n",
       "    .dataframe thead th {\n",
       "        text-align: right;\n",
       "    }\n",
       "</style>\n",
       "<table border=\"1\" class=\"dataframe\">\n",
       "  <thead>\n",
       "    <tr style=\"text-align: right;\">\n",
       "      <th></th>\n",
       "      <th>title</th>\n",
       "      <th>authors</th>\n",
       "      <th>categories</th>\n",
       "      <th>ratings_count</th>\n",
       "    </tr>\n",
       "  </thead>\n",
       "  <tbody>\n",
       "    <tr>\n",
       "      <th>0</th>\n",
       "      <td>Harry Potter and the Sorcerer's Stone (Book 1)</td>\n",
       "      <td>Rowling, J.K.</td>\n",
       "      <td>Juvenile Fiction</td>\n",
       "      <td>5629932</td>\n",
       "    </tr>\n",
       "    <tr>\n",
       "      <th>1</th>\n",
       "      <td>The Hobbit, Or, There and Back Again</td>\n",
       "      <td>John Ronald Reuel Tolkien</td>\n",
       "      <td>Juvenile Fiction</td>\n",
       "      <td>2364968</td>\n",
       "    </tr>\n",
       "    <tr>\n",
       "      <th>2</th>\n",
       "      <td>Harry Potter and the Prisoner of Azkaban (Book 3)</td>\n",
       "      <td>Rowling, J.K.</td>\n",
       "      <td>Juvenile Fiction</td>\n",
       "      <td>2149872</td>\n",
       "    </tr>\n",
       "    <tr>\n",
       "      <th>3</th>\n",
       "      <td>Harry Potter and the Chamber of Secrets (Book 2)</td>\n",
       "      <td>Rowling, J.K.</td>\n",
       "      <td>Juvenile Fiction</td>\n",
       "      <td>2115562</td>\n",
       "    </tr>\n",
       "    <tr>\n",
       "      <th>4</th>\n",
       "      <td>The Fellowship of the Ring: Being the First Pa...</td>\n",
       "      <td>J. R. R. Tolkien</td>\n",
       "      <td>Fiction</td>\n",
       "      <td>2009749</td>\n",
       "    </tr>\n",
       "    <tr>\n",
       "      <th>5</th>\n",
       "      <td>Harry Potter and the Order of the Phoenix (Boo...</td>\n",
       "      <td>Rowling, J.K.</td>\n",
       "      <td>Juvenile Fiction</td>\n",
       "      <td>1996446</td>\n",
       "    </tr>\n",
       "    <tr>\n",
       "      <th>6</th>\n",
       "      <td>Harry Potter and the Half-Blood Prince (Book 6)</td>\n",
       "      <td>Rowling, J.K.</td>\n",
       "      <td>Juvenile Fiction</td>\n",
       "      <td>1944099</td>\n",
       "    </tr>\n",
       "    <tr>\n",
       "      <th>7</th>\n",
       "      <td>Romeo and Juliet</td>\n",
       "      <td>William Shakespeare</td>\n",
       "      <td>Drama</td>\n",
       "      <td>1811259</td>\n",
       "    </tr>\n",
       "    <tr>\n",
       "      <th>8</th>\n",
       "      <td>The Alchemist</td>\n",
       "      <td>Paulo Coelho</td>\n",
       "      <td>Fiction</td>\n",
       "      <td>1592632</td>\n",
       "    </tr>\n",
       "    <tr>\n",
       "      <th>9</th>\n",
       "      <td>Robert Langdon Novels: The Da Vinci Code : a N...</td>\n",
       "      <td>Dan Brown</td>\n",
       "      <td>Art museum curators</td>\n",
       "      <td>1588890</td>\n",
       "    </tr>\n",
       "    <tr>\n",
       "      <th>10</th>\n",
       "      <td>The Giver</td>\n",
       "      <td>Lois Lowry</td>\n",
       "      <td>Juvenile Fiction</td>\n",
       "      <td>1464909</td>\n",
       "    </tr>\n",
       "    <tr>\n",
       "      <th>11</th>\n",
       "      <td>Jane Eyre</td>\n",
       "      <td>Charlotte Brontë</td>\n",
       "      <td>Fiction</td>\n",
       "      <td>1328143</td>\n",
       "    </tr>\n",
       "    <tr>\n",
       "      <th>12</th>\n",
       "      <td>Eat, Pray, Love: One Woman's Search for Everyt...</td>\n",
       "      <td>Elizabeth Gilbert</td>\n",
       "      <td>Biography &amp; Autobiography</td>\n",
       "      <td>1309623</td>\n",
       "    </tr>\n",
       "    <tr>\n",
       "      <th>13</th>\n",
       "      <td>Charlotte's Web (full color)</td>\n",
       "      <td>E. B. White</td>\n",
       "      <td>Juvenile Fiction</td>\n",
       "      <td>1229902</td>\n",
       "    </tr>\n",
       "    <tr>\n",
       "      <th>14</th>\n",
       "      <td>Water for Elephants: A Novel</td>\n",
       "      <td>Sara Gruen</td>\n",
       "      <td>Fiction</td>\n",
       "      <td>1198632</td>\n",
       "    </tr>\n",
       "    <tr>\n",
       "      <th>15</th>\n",
       "      <td>Brave New World</td>\n",
       "      <td>Aldous Huxley</td>\n",
       "      <td>Fiction</td>\n",
       "      <td>1173739</td>\n",
       "    </tr>\n",
       "    <tr>\n",
       "      <th>16</th>\n",
       "      <td>Wuthering Heights: The 1847 Text, Backgrounds ...</td>\n",
       "      <td>Emily Bronte;Emily Brontë</td>\n",
       "      <td>Fiction</td>\n",
       "      <td>1041597</td>\n",
       "    </tr>\n",
       "  </tbody>\n",
       "</table>\n",
       "</div>"
      ],
      "text/plain": [
       "                                                title  \\\n",
       "0      Harry Potter and the Sorcerer's Stone (Book 1)   \n",
       "1                The Hobbit, Or, There and Back Again   \n",
       "2   Harry Potter and the Prisoner of Azkaban (Book 3)   \n",
       "3    Harry Potter and the Chamber of Secrets (Book 2)   \n",
       "4   The Fellowship of the Ring: Being the First Pa...   \n",
       "5   Harry Potter and the Order of the Phoenix (Boo...   \n",
       "6     Harry Potter and the Half-Blood Prince (Book 6)   \n",
       "7                                    Romeo and Juliet   \n",
       "8                                       The Alchemist   \n",
       "9   Robert Langdon Novels: The Da Vinci Code : a N...   \n",
       "10                                          The Giver   \n",
       "11                                          Jane Eyre   \n",
       "12  Eat, Pray, Love: One Woman's Search for Everyt...   \n",
       "13                       Charlotte's Web (full color)   \n",
       "14                       Water for Elephants: A Novel   \n",
       "15                                    Brave New World   \n",
       "16  Wuthering Heights: The 1847 Text, Backgrounds ...   \n",
       "\n",
       "                      authors                 categories  ratings_count  \n",
       "0               Rowling, J.K.           Juvenile Fiction        5629932  \n",
       "1   John Ronald Reuel Tolkien           Juvenile Fiction        2364968  \n",
       "2               Rowling, J.K.           Juvenile Fiction        2149872  \n",
       "3               Rowling, J.K.           Juvenile Fiction        2115562  \n",
       "4            J. R. R. Tolkien                    Fiction        2009749  \n",
       "5               Rowling, J.K.           Juvenile Fiction        1996446  \n",
       "6               Rowling, J.K.           Juvenile Fiction        1944099  \n",
       "7         William Shakespeare                      Drama        1811259  \n",
       "8                Paulo Coelho                    Fiction        1592632  \n",
       "9                   Dan Brown        Art museum curators        1588890  \n",
       "10                 Lois Lowry           Juvenile Fiction        1464909  \n",
       "11           Charlotte Brontë                    Fiction        1328143  \n",
       "12          Elizabeth Gilbert  Biography & Autobiography        1309623  \n",
       "13                E. B. White           Juvenile Fiction        1229902  \n",
       "14                 Sara Gruen                    Fiction        1198632  \n",
       "15              Aldous Huxley                    Fiction        1173739  \n",
       "16  Emily Bronte;Emily Brontë                    Fiction        1041597  "
      ]
     },
     "execution_count": 35,
     "metadata": {},
     "output_type": "execute_result"
    }
   ],
   "source": [
    "# Books with ratings count greater than 1 Million:\n",
    "books[books['ratings_count']>1000000].sort_values(by='ratings_count',ascending=False)[['title','authors','categories','ratings_count']].reset_index(drop=True)"
   ]
  },
  {
   "cell_type": "markdown",
   "id": "f38899b9-8de9-43be-a8f1-b84b4fbb3adb",
   "metadata": {},
   "source": [
    "### Most of the highly rated books are from Juvenile Fiction or Fiction genre."
   ]
  },
  {
   "cell_type": "code",
   "execution_count": 37,
   "id": "5fcc9384-3abe-4610-ad93-105732b71ff1",
   "metadata": {},
   "outputs": [
    {
     "data": {
      "text/plain": [
       "Text(0.5, 0, 'Page Count')"
      ]
     },
     "execution_count": 37,
     "metadata": {},
     "output_type": "execute_result"
    },
    {
     "data": {
      "image/png": "[encoded data removed]",
      "text/plain": [
       "<Figure size 640x480 with 1 Axes>"
      ]
     },
     "metadata": {},
     "output_type": "display_data"
    }
   ],
   "source": [
    "# distribution of page count :\n",
    "plt.hist(books['num_pages'], bins=20, color='orange', alpha=0.7)\n",
    "plt.title(\"Number of Pages Distribution\")\n",
    "plt.xlabel('Page Count')"
   ]
  },
  {
   "cell_type": "code",
   "execution_count": 38,
   "id": "091c0cdc-bf35-4d7c-a0f6-74034c4990a8",
   "metadata": {},
   "outputs": [
    {
     "data": {
      "text/plain": [
       "Text(0.5, 0, 'Publishing Year')"
      ]
     },
     "execution_count": 38,
     "metadata": {},
     "output_type": "execute_result"
    },
    {
     "data": {
      "image/png": "[encoded data removed]",
      "text/plain": [
       "<Figure size 640x480 with 1 Axes>"
      ]
     },
     "metadata": {},
     "output_type": "display_data"
    }
   ],
   "source": [
    "# distribution of publishing years:\n",
    "plt.hist(books['published_year'], bins=20, color='red', alpha=0.7)\n",
    "plt.title(\"Distribution of Publishing Years\")\n",
    "plt.xlabel('Publishing Year')"
   ]
  },
  {
   "cell_type": "code",
   "execution_count": 39,
   "id": "48caa48f-910c-4e12-bc7e-6b6a9c6069bb",
   "metadata": {},
   "outputs": [
    {
     "data": {
      "text/plain": [
       "published_year\n",
       "(2000, 2020]    3680\n",
       "(1980, 2000]    2148\n",
       "(1960, 1980]     206\n",
       "(1940, 1960]      56\n",
       "(1920, 1940]      12\n",
       "(1870, 1880]       2\n",
       "(1880, 1900]       0\n",
       "(1900, 1920]       0\n",
       "Name: count, dtype: int64"
      ]
     },
     "execution_count": 39,
     "metadata": {},
     "output_type": "execute_result"
    }
   ],
   "source": [
    "# Categorize the publishing years into 8 bins: \n",
    "pd.cut(books['published_year'],bins=[1870,1880,1900,1920,1940,1960,1980,2000,2020]).value_counts()"
   ]
  },
  {
   "cell_type": "code",
   "execution_count": 40,
   "id": "9f041c01-ec2a-4c54-b190-163523f4813a",
   "metadata": {},
   "outputs": [
    {
     "name": "stdout",
     "output_type": "stream",
     "text": [
      "--------------------------------------------------------------------------------------------------------------------------------------------\n",
      "The Oldest book in the dataset is: 'Daniel Deronda' by George Eliot (1876)\n",
      "--------------------------------------------------------------------------------------------------------------------------------------------\n",
      "The Most Recent book in the dataset is: 'Collections of the Massachusetts Historical Soceity' by Hardpress (2019)\n",
      "--------------------------------------------------------------------------------------------------------------------------------------------\n"
     ]
    }
   ],
   "source": [
    "# oldest and recent book in the dataset:\n",
    "# Sort the dataset by published year:\n",
    "sorted_books = books.sort_values(by='published_year')\n",
    "oldest_book = sorted_books.iloc[0]\n",
    "recent_book = sorted_books.iloc[-1]\n",
    "\n",
    "print('-'*140)\n",
    "print(f\"The Oldest book in the dataset is: '{oldest_book['title']}' by {oldest_book['authors']} ({oldest_book['published_year']})\")\n",
    "print('-'*140)\n",
    "print(f\"The Most Recent book in the dataset is: '{recent_book['title']}' by {recent_book['authors']} ({recent_book['published_year']})\")\n",
    "print('-'*140)"
   ]
  },
  {
   "cell_type": "code",
   "execution_count": 41,
   "id": "8a47b66c-3132-4262-a4d5-2626749d8017",
   "metadata": {},
   "outputs": [],
   "source": [
    "# Most popular book genre in each decade :\n",
    "books['decade'] = (books['published_year']//10)*10"
   ]
  },
  {
   "cell_type": "code",
   "execution_count": 42,
   "id": "c429ecbc-09d4-4983-8725-1a078c13c06c",
   "metadata": {},
   "outputs": [
    {
     "data": {
      "text/html": [
       "<div>\n",
       "<style scoped>\n",
       "    .dataframe tbody tr th:only-of-type {\n",
       "        vertical-align: middle;\n",
       "    }\n",
       "\n",
       "    .dataframe tbody tr th {\n",
       "        vertical-align: top;\n",
       "    }\n",
       "\n",
       "    .dataframe thead th {\n",
       "        text-align: right;\n",
       "    }\n",
       "</style>\n",
       "<table border=\"1\" class=\"dataframe\">\n",
       "  <thead>\n",
       "    <tr style=\"text-align: right;\">\n",
       "      <th></th>\n",
       "      <th>published_year</th>\n",
       "      <th>decade</th>\n",
       "    </tr>\n",
       "  </thead>\n",
       "  <tbody>\n",
       "    <tr>\n",
       "      <th>0</th>\n",
       "      <td>2003</td>\n",
       "      <td>2000</td>\n",
       "    </tr>\n",
       "    <tr>\n",
       "      <th>1</th>\n",
       "      <td>1998</td>\n",
       "      <td>1990</td>\n",
       "    </tr>\n",
       "    <tr>\n",
       "      <th>2</th>\n",
       "      <td>1985</td>\n",
       "      <td>1980</td>\n",
       "    </tr>\n",
       "  </tbody>\n",
       "</table>\n",
       "</div>"
      ],
      "text/plain": [
       "   published_year  decade\n",
       "0            2003    2000\n",
       "1            1998    1990\n",
       "2            1985    1980"
      ]
     },
     "execution_count": 42,
     "metadata": {},
     "output_type": "execute_result"
    }
   ],
   "source": [
    "books[['published_year','decade']].head(3)"
   ]
  },
  {
   "cell_type": "code",
   "execution_count": 43,
   "id": "9f28f2bd-bb3f-4604-9ac9-104338ab87c2",
   "metadata": {},
   "outputs": [
    {
     "data": {
      "text/html": [
       "<div>\n",
       "<style scoped>\n",
       "    .dataframe tbody tr th:only-of-type {\n",
       "        vertical-align: middle;\n",
       "    }\n",
       "\n",
       "    .dataframe tbody tr th {\n",
       "        vertical-align: top;\n",
       "    }\n",
       "\n",
       "    .dataframe thead th {\n",
       "        text-align: right;\n",
       "    }\n",
       "</style>\n",
       "<table border=\"1\" class=\"dataframe\">\n",
       "  <thead>\n",
       "    <tr style=\"text-align: right;\">\n",
       "      <th></th>\n",
       "      <th>categories</th>\n",
       "      <th>ratings_count</th>\n",
       "    </tr>\n",
       "    <tr>\n",
       "      <th>decade</th>\n",
       "      <th></th>\n",
       "      <th></th>\n",
       "    </tr>\n",
       "  </thead>\n",
       "  <tbody>\n",
       "    <tr>\n",
       "      <th>1870</th>\n",
       "      <td>Fiction</td>\n",
       "      <td>19852</td>\n",
       "    </tr>\n",
       "    <tr>\n",
       "      <th>1920</th>\n",
       "      <td>Fiction</td>\n",
       "      <td>115035</td>\n",
       "    </tr>\n",
       "    <tr>\n",
       "      <th>1930</th>\n",
       "      <td>Fiction</td>\n",
       "      <td>74568</td>\n",
       "    </tr>\n",
       "    <tr>\n",
       "      <th>1940</th>\n",
       "      <td>Fiction</td>\n",
       "      <td>115019</td>\n",
       "    </tr>\n",
       "    <tr>\n",
       "      <th>1950</th>\n",
       "      <td>Capitalism</td>\n",
       "      <td>311883</td>\n",
       "    </tr>\n",
       "    <tr>\n",
       "      <th>1960</th>\n",
       "      <td>Juvenile Fiction</td>\n",
       "      <td>544393</td>\n",
       "    </tr>\n",
       "    <tr>\n",
       "      <th>1970</th>\n",
       "      <td>Boys</td>\n",
       "      <td>911271</td>\n",
       "    </tr>\n",
       "    <tr>\n",
       "      <th>1980</th>\n",
       "      <td>Fiction</td>\n",
       "      <td>2512882</td>\n",
       "    </tr>\n",
       "    <tr>\n",
       "      <th>1990</th>\n",
       "      <td>Fiction</td>\n",
       "      <td>11035822</td>\n",
       "    </tr>\n",
       "    <tr>\n",
       "      <th>2000</th>\n",
       "      <td>Fiction</td>\n",
       "      <td>50184170</td>\n",
       "    </tr>\n",
       "    <tr>\n",
       "      <th>2010</th>\n",
       "      <td>Juvenile Fiction</td>\n",
       "      <td>13836013</td>\n",
       "    </tr>\n",
       "  </tbody>\n",
       "</table>\n",
       "</div>"
      ],
      "text/plain": [
       "              categories  ratings_count\n",
       "decade                                 \n",
       "1870             Fiction          19852\n",
       "1920             Fiction         115035\n",
       "1930             Fiction          74568\n",
       "1940             Fiction         115019\n",
       "1950          Capitalism         311883\n",
       "1960    Juvenile Fiction         544393\n",
       "1970                Boys         911271\n",
       "1980             Fiction        2512882\n",
       "1990             Fiction       11035822\n",
       "2000             Fiction       50184170\n",
       "2010    Juvenile Fiction       13836013"
      ]
     },
     "execution_count": 43,
     "metadata": {},
     "output_type": "execute_result"
    }
   ],
   "source": [
    "# group the books by decades and categories :\n",
    "genre_popularity = books.groupby(['decade','categories'])['ratings_count'].sum().reset_index()\n",
    "\n",
    "# sort the books by decades and categories :\n",
    "most_popular_genres = genre_popularity.sort_values(by= ['decade','ratings_count'],ascending=[True,False])\n",
    " \n",
    "# Keep the top genre for each decade :\n",
    "top_genre_per_decade = most_popular_genres.groupby('decade').head(1).set_index('decade')\n",
    "top_genre_per_decade"
   ]
  },
  {
   "cell_type": "code",
   "execution_count": 44,
   "id": "6666ca54-d386-40fa-a967-d98e3cf8bda8",
   "metadata": {},
   "outputs": [],
   "source": [
    "# change the category of the book 'The Shinning' by Stephen King:\n",
    "books.loc[books['title']== 'The Shining','categories'] = ' Psychological horror'\n",
    "\n",
    "# Run the above code again!"
   ]
  },
  {
   "cell_type": "markdown",
   "id": "bf861049-d4fd-44b3-85f1-d5189854128f",
   "metadata": {},
   "source": [
    "------------------"
   ]
  },
  {
   "cell_type": "markdown",
   "id": "e9b6014c-83a2-4c48-9110-a5ff7ceecf88",
   "metadata": {},
   "source": [
    "## Step 4 : Feature Engineering for Recommendation System :"
   ]
  },
  {
   "cell_type": "code",
   "execution_count": 526,
   "id": "37ec4136-f90f-4672-882d-07ddc1043069",
   "metadata": {},
   "outputs": [
    {
     "data": {
      "text/html": [
       "<div>\n",
       "<style scoped>\n",
       "    .dataframe tbody tr th:only-of-type {\n",
       "        vertical-align: middle;\n",
       "    }\n",
       "\n",
       "    .dataframe tbody tr th {\n",
       "        vertical-align: top;\n",
       "    }\n",
       "\n",
       "    .dataframe thead th {\n",
       "        text-align: right;\n",
       "    }\n",
       "</style>\n",
       "<table border=\"1\" class=\"dataframe\">\n",
       "  <thead>\n",
       "    <tr style=\"text-align: right;\">\n",
       "      <th></th>\n",
       "      <th>isbn10</th>\n",
       "      <th>title</th>\n",
       "      <th>authors</th>\n",
       "      <th>categories</th>\n",
       "      <th>thumbnail</th>\n",
       "      <th>description</th>\n",
       "      <th>published_year</th>\n",
       "      <th>average_rating</th>\n",
       "      <th>num_pages</th>\n",
       "      <th>ratings_count</th>\n",
       "      <th>decade</th>\n",
       "    </tr>\n",
       "  </thead>\n",
       "  <tbody>\n",
       "    <tr>\n",
       "      <th>0</th>\n",
       "      <td>310243564</td>\n",
       "      <td>\"A\" is for Abductive: The Language of the Emer...</td>\n",
       "      <td>Leonard I. Sweet;Brian D. McLaren;Jerry Haselm...</td>\n",
       "      <td>Religion</td>\n",
       "      <td>http://books.google.com/books/content?id=y408k...</td>\n",
       "      <td>A Is for Abductive B is for Body C is for Carp...</td>\n",
       "      <td>2003</td>\n",
       "      <td>3.17</td>\n",
       "      <td>338</td>\n",
       "      <td>48</td>\n",
       "      <td>2000</td>\n",
       "    </tr>\n",
       "    <tr>\n",
       "      <th>1</th>\n",
       "      <td>801435307</td>\n",
       "      <td>\"Gorgias\" and \"Phaedrus\": Rhetoric, Philosophy...</td>\n",
       "      <td>Plato</td>\n",
       "      <td>Philosophy</td>\n",
       "      <td>http://books.google.com/books/content?id=vBmKQ...</td>\n",
       "      <td>With a masterful sense of the place of rhetori...</td>\n",
       "      <td>1998</td>\n",
       "      <td>4.41</td>\n",
       "      <td>233</td>\n",
       "      <td>15</td>\n",
       "      <td>1990</td>\n",
       "    </tr>\n",
       "    <tr>\n",
       "      <th>2</th>\n",
       "      <td>393316041</td>\n",
       "      <td>\"Surely You're Joking, Mr. Feynman!\": Adventur...</td>\n",
       "      <td>Richard Phillips Feynman;Ralph Leighton</td>\n",
       "      <td>Biography &amp; Autobiography</td>\n",
       "      <td>http://books.google.com/books/content?id=ZRoF9...</td>\n",
       "      <td>The Nobel Prize-winning theoretical physicist ...</td>\n",
       "      <td>1985</td>\n",
       "      <td>4.28</td>\n",
       "      <td>391</td>\n",
       "      <td>105685</td>\n",
       "      <td>1980</td>\n",
       "    </tr>\n",
       "  </tbody>\n",
       "</table>\n",
       "</div>"
      ],
      "text/plain": [
       "      isbn10                                              title  \\\n",
       "0  310243564  \"A\" is for Abductive: The Language of the Emer...   \n",
       "1  801435307  \"Gorgias\" and \"Phaedrus\": Rhetoric, Philosophy...   \n",
       "2  393316041  \"Surely You're Joking, Mr. Feynman!\": Adventur...   \n",
       "\n",
       "                                             authors  \\\n",
       "0  Leonard I. Sweet;Brian D. McLaren;Jerry Haselm...   \n",
       "1                                              Plato   \n",
       "2            Richard Phillips Feynman;Ralph Leighton   \n",
       "\n",
       "                  categories  \\\n",
       "0                   Religion   \n",
       "1                 Philosophy   \n",
       "2  Biography & Autobiography   \n",
       "\n",
       "                                           thumbnail  \\\n",
       "0  http://books.google.com/books/content?id=y408k...   \n",
       "1  http://books.google.com/books/content?id=vBmKQ...   \n",
       "2  http://books.google.com/books/content?id=ZRoF9...   \n",
       "\n",
       "                                         description  published_year  \\\n",
       "0  A Is for Abductive B is for Body C is for Carp...            2003   \n",
       "1  With a masterful sense of the place of rhetori...            1998   \n",
       "2  The Nobel Prize-winning theoretical physicist ...            1985   \n",
       "\n",
       "   average_rating  num_pages  ratings_count  decade  \n",
       "0            3.17        338             48    2000  \n",
       "1            4.41        233             15    1990  \n",
       "2            4.28        391         105685    1980  "
      ]
     },
     "execution_count": 526,
     "metadata": {},
     "output_type": "execute_result"
    }
   ],
   "source": [
    "# First make a copy of the books dataframe :\n",
    "books_fe = books.copy()\n",
    "books_fe.head(3)"
   ]
  },
  {
   "cell_type": "markdown",
   "id": "b77bc59f-bdc8-4538-a8ab-8c3f7b1d6298",
   "metadata": {},
   "source": [
    "## Preprocessing the text data:"
   ]
  },
  {
   "cell_type": "code",
   "execution_count": 529,
   "id": "2a3ad5b0-a87c-49de-a23d-74e448ad4ce9",
   "metadata": {},
   "outputs": [],
   "source": [
    "# Importing necessary modules for text preprocessing\n",
    "import string\n",
    "from nltk.corpus import stopwords\n",
    "from nltk.stem import WordNetLemmatizer\n",
    "\n",
    "# Initializing the WordNetLemmatizer to perform lemmatization\n",
    "lemmatizer = WordNetLemmatizer()"
   ]
  },
  {
   "cell_type": "code",
   "execution_count": 531,
   "id": "a6b100cb-f29a-4039-b648-1352cc6e4e7f",
   "metadata": {},
   "outputs": [],
   "source": [
    "# Clean the title column:\n",
    "books_fe['title'] = books_fe['title'].apply(lambda x : \" \".join(x.split()))"
   ]
  },
  {
   "cell_type": "code",
   "execution_count": 533,
   "id": "6d96650e-a035-488b-bbb8-6cd7bd5e146d",
   "metadata": {},
   "outputs": [
    {
     "data": {
      "text/plain": [
       "0    \"A\" is for Abductive: The Language of the Emer...\n",
       "1    \"Gorgias\" and \"Phaedrus\": Rhetoric, Philosophy...\n",
       "2    \"Surely You're Joking, Mr. Feynman!\": Adventur...\n",
       "3    \"What Do You Care what Other People Think?\": F...\n",
       "4                                      $30 Film School\n",
       "5    'I'm Telling You Stories': Jeanette Winterson ...\n",
       "6    'Photos of the Gods': The Printed Image and Po...\n",
       "7                                         'Salem's Lot\n",
       "8                                       'Tis: A Memoir\n",
       "9                      , said the shotgun to the head.\n",
       "Name: title, dtype: object"
      ]
     },
     "execution_count": 533,
     "metadata": {},
     "output_type": "execute_result"
    }
   ],
   "source": [
    "books_fe['title'].head(10)"
   ]
  },
  {
   "cell_type": "code",
   "execution_count": 535,
   "id": "590804a3-e465-4729-a1f0-fc9b4dd8bb4e",
   "metadata": {},
   "outputs": [],
   "source": [
    "# Define a cleaning function for authors column:\n",
    "def clean_authors(text):\n",
    "    \n",
    "    # Step 1: Convert to lowercase\n",
    "    text = text.lower()\n",
    "    \n",
    "    # Step 2: Replace semi-colon with colon\n",
    "    text = text.replace(';',',')\n",
    "    \n",
    "    # Step 3: Remove extra spaces\n",
    "    text = \" \".join(text.split())\n",
    "    \n",
    "    # Step 4: Split the authors by comma\n",
    "    text = text.split(',')\n",
    "    \n",
    "    return text\n",
    "    \n",
    "books_fe['authors'] = books_fe['authors'].apply(clean_authors)"
   ]
  },
  {
   "cell_type": "code",
   "execution_count": 537,
   "id": "7033302a-3064-4085-ade4-a104d9719af9",
   "metadata": {},
   "outputs": [
    {
     "data": {
      "text/plain": [
       "0    [leonard i. sweet, brian d. mclaren, jerry has...\n",
       "1                                              [plato]\n",
       "2           [richard phillips feynman, ralph leighton]\n",
       "3           [richard phillips feynman, ralph leighton]\n",
       "4                               [michael wareham dean]\n",
       "Name: authors, dtype: object"
      ]
     },
     "execution_count": 537,
     "metadata": {},
     "output_type": "execute_result"
    }
   ],
   "source": [
    "books_fe['authors'].head()"
   ]
  },
  {
   "cell_type": "code",
   "execution_count": 543,
   "id": "80e243a1-7ced-4982-8fdd-6e133d27c7bd",
   "metadata": {},
   "outputs": [],
   "source": [
    "# Define a cleaning function for categories column:\n",
    "def clean_categories(text):\n",
    "    \n",
    "    # Step 1: Remove whitespace & Convert to lowercase\n",
    "    text = text.strip().lower()\n",
    "    \n",
    "    #Step 2: Remove punctuation\n",
    "    text = text.translate(str.maketrans('', '', string.punctuation))\n",
    "    \n",
    "    # Step 3: Remove stopwords\n",
    "    stop = set(stopwords.words('english'))\n",
    "    text = ' '.join(word for word in text.split() if word not in stop)\n",
    "    \n",
    "    # Step 4: Apply lemmatizing\n",
    "    text = ' '.join(lemmatizer.lemmatize(word) for word in text.split())\n",
    "\n",
    "    # Step 5: Replace specific terms\n",
    "    replacements = {\n",
    "        \"fictitious character\": \"fiction\",\n",
    "        \"imaginary place\": \"fiction\",\n",
    "        \"imaginary organization\": \"juvenile fiction\",\n",
    "        \"imaginary war battle\" : \"fiction\"\n",
    "    }\n",
    "    for old,new in replacements.items():\n",
    "        text = text.replace(old,new)\n",
    "    \n",
    "    return text\n",
    "\n",
    "books_fe['categories'] = books_fe['categories'].apply(clean_categories)"
   ]
  },
  {
   "cell_type": "code",
   "execution_count": 541,
   "id": "243f5d25-9c48-4d26-9c5f-5f65b928fc6e",
   "metadata": {},
   "outputs": [
    {
     "name": "stderr",
     "output_type": "stream",
     "text": [
      "[nltk_data] Downloading package wordnet to\n",
      "[nltk_data]     C:\\Users\\lenovo\\AppData\\Roaming\\nltk_data...\n",
      "[nltk_data]   Package wordnet is already up-to-date!\n",
      "[nltk_data] Downloading package stopwords to\n",
      "[nltk_data]     C:\\Users\\lenovo\\AppData\\Roaming\\nltk_data...\n",
      "[nltk_data]   Package stopwords is already up-to-date!\n"
     ]
    },
    {
     "data": {
      "text/plain": [
       "True"
      ]
     },
     "execution_count": 541,
     "metadata": {},
     "output_type": "execute_result"
    }
   ],
   "source": [
    "# Download the NLTK wordnet Dataset for lemmatizing purpose:\n",
    "import nltk\n",
    "nltk.download('wordnet')\n",
    "\n",
    "# Download the NLTK Stopwords Dataset:\n",
    "import nltk\n",
    "nltk.download('stopwords')\n",
    "\n",
    "# Run the above function again."
   ]
  },
  {
   "cell_type": "code",
   "execution_count": 545,
   "id": "d7e87b2b-a26b-496e-9530-3addcf94690c",
   "metadata": {},
   "outputs": [
    {
     "data": {
      "text/plain": [
       "0                   religion\n",
       "1                 philosophy\n",
       "2    biography autobiography\n",
       "3    biography autobiography\n",
       "4                   computer\n",
       "Name: categories, dtype: object"
      ]
     },
     "execution_count": 545,
     "metadata": {},
     "output_type": "execute_result"
    }
   ],
   "source": [
    "books_fe['categories'].head()"
   ]
  },
  {
   "cell_type": "code",
   "execution_count": 547,
   "id": "63ad4d55-f7e4-4d31-8755-a80202c3d5ff",
   "metadata": {},
   "outputs": [],
   "source": [
    "# Define a cleaning function for description column:\n",
    "def clean_description(text):\n",
    "    # Step 1: Remove whitespace & Convert to lowercase\n",
    "    text = text.strip().lower()\n",
    "    \n",
    "    # Step 2: Remove punctuation\n",
    "    text = text.translate(str.maketrans('', '', string.punctuation))\n",
    "    \n",
    "    # Step 3: Remove stopwords\n",
    "    stop = set(stopwords.words('english'))\n",
    "    text = \" \".join(word for word in text.split() if word not in stop)\n",
    "    \n",
    "    # Step 4: Apply lemmatizing\n",
    "    text = \" \".join(lemmatizer.lemmatize(word) for word in text.split())\n",
    "    \n",
    "    return text\n",
    "books_fe['description'] = books_fe['description'].apply(clean_description)"
   ]
  },
  {
   "cell_type": "code",
   "execution_count": 548,
   "id": "43f4e864-0d13-442c-86cc-38226e052cdd",
   "metadata": {},
   "outputs": [
    {
     "data": {
      "text/plain": [
       "'demonstrating make film help dv camera computer entertaining handbook provides detailed instruction create innovative film budget offer tip distribute promote sell one finished production accompanied cdrom containing sample movie lesson interview trailer useful tool original beginner'"
      ]
     },
     "execution_count": 548,
     "metadata": {},
     "output_type": "execute_result"
    }
   ],
   "source": [
    "books_fe['description'][4]"
   ]
  },
  {
   "cell_type": "code",
   "execution_count": 549,
   "id": "0a3d867a-1060-468a-9931-0b83e5800d14",
   "metadata": {},
   "outputs": [
    {
     "data": {
      "text/html": [
       "<div>\n",
       "<style scoped>\n",
       "    .dataframe tbody tr th:only-of-type {\n",
       "        vertical-align: middle;\n",
       "    }\n",
       "\n",
       "    .dataframe tbody tr th {\n",
       "        vertical-align: top;\n",
       "    }\n",
       "\n",
       "    .dataframe thead th {\n",
       "        text-align: right;\n",
       "    }\n",
       "</style>\n",
       "<table border=\"1\" class=\"dataframe\">\n",
       "  <thead>\n",
       "    <tr style=\"text-align: right;\">\n",
       "      <th></th>\n",
       "      <th>isbn10</th>\n",
       "      <th>title</th>\n",
       "      <th>authors</th>\n",
       "      <th>categories</th>\n",
       "      <th>thumbnail</th>\n",
       "      <th>description</th>\n",
       "      <th>published_year</th>\n",
       "      <th>average_rating</th>\n",
       "      <th>num_pages</th>\n",
       "      <th>ratings_count</th>\n",
       "      <th>decade</th>\n",
       "    </tr>\n",
       "  </thead>\n",
       "  <tbody>\n",
       "    <tr>\n",
       "      <th>0</th>\n",
       "      <td>310243564</td>\n",
       "      <td>\"A\" is for Abductive: The Language of the Emer...</td>\n",
       "      <td>[leonard i. sweet, brian d. mclaren, jerry has...</td>\n",
       "      <td>religion</td>\n",
       "      <td>http://books.google.com/books/content?id=y408k...</td>\n",
       "      <td>abductive b body c carpe manana doublering e e...</td>\n",
       "      <td>2003</td>\n",
       "      <td>3.17</td>\n",
       "      <td>338</td>\n",
       "      <td>48</td>\n",
       "      <td>2000</td>\n",
       "    </tr>\n",
       "    <tr>\n",
       "      <th>1</th>\n",
       "      <td>801435307</td>\n",
       "      <td>\"Gorgias\" and \"Phaedrus\": Rhetoric, Philosophy...</td>\n",
       "      <td>[plato]</td>\n",
       "      <td>philosophy</td>\n",
       "      <td>http://books.google.com/books/content?id=vBmKQ...</td>\n",
       "      <td>masterful sense place rhetoric thought practic...</td>\n",
       "      <td>1998</td>\n",
       "      <td>4.41</td>\n",
       "      <td>233</td>\n",
       "      <td>15</td>\n",
       "      <td>1990</td>\n",
       "    </tr>\n",
       "    <tr>\n",
       "      <th>2</th>\n",
       "      <td>393316041</td>\n",
       "      <td>\"Surely You're Joking, Mr. Feynman!\": Adventur...</td>\n",
       "      <td>[richard phillips feynman, ralph leighton]</td>\n",
       "      <td>biography autobiography</td>\n",
       "      <td>http://books.google.com/books/content?id=ZRoF9...</td>\n",
       "      <td>nobel prizewinning theoretical physicist talk ...</td>\n",
       "      <td>1985</td>\n",
       "      <td>4.28</td>\n",
       "      <td>391</td>\n",
       "      <td>105685</td>\n",
       "      <td>1980</td>\n",
       "    </tr>\n",
       "    <tr>\n",
       "      <th>3</th>\n",
       "      <td>393320928</td>\n",
       "      <td>\"What Do You Care what Other People Think?\": F...</td>\n",
       "      <td>[richard phillips feynman, ralph leighton]</td>\n",
       "      <td>biography autobiography</td>\n",
       "      <td>http://books.google.com/books/content?id=LUrJI...</td>\n",
       "      <td>twopart profile late nobel prizewinning scient...</td>\n",
       "      <td>2001</td>\n",
       "      <td>4.27</td>\n",
       "      <td>256</td>\n",
       "      <td>15646</td>\n",
       "      <td>2000</td>\n",
       "    </tr>\n",
       "    <tr>\n",
       "      <th>4</th>\n",
       "      <td>1592000673</td>\n",
       "      <td>$30 Film School</td>\n",
       "      <td>[michael wareham dean]</td>\n",
       "      <td>computer</td>\n",
       "      <td>http://books.google.com/books/content?id=MwSM8...</td>\n",
       "      <td>demonstrating make film help dv camera compute...</td>\n",
       "      <td>2003</td>\n",
       "      <td>3.52</td>\n",
       "      <td>528</td>\n",
       "      <td>29</td>\n",
       "      <td>2000</td>\n",
       "    </tr>\n",
       "  </tbody>\n",
       "</table>\n",
       "</div>"
      ],
      "text/plain": [
       "       isbn10                                              title  \\\n",
       "0   310243564  \"A\" is for Abductive: The Language of the Emer...   \n",
       "1   801435307  \"Gorgias\" and \"Phaedrus\": Rhetoric, Philosophy...   \n",
       "2   393316041  \"Surely You're Joking, Mr. Feynman!\": Adventur...   \n",
       "3   393320928  \"What Do You Care what Other People Think?\": F...   \n",
       "4  1592000673                                    $30 Film School   \n",
       "\n",
       "                                             authors               categories  \\\n",
       "0  [leonard i. sweet, brian d. mclaren, jerry has...                 religion   \n",
       "1                                            [plato]               philosophy   \n",
       "2         [richard phillips feynman, ralph leighton]  biography autobiography   \n",
       "3         [richard phillips feynman, ralph leighton]  biography autobiography   \n",
       "4                             [michael wareham dean]                 computer   \n",
       "\n",
       "                                           thumbnail  \\\n",
       "0  http://books.google.com/books/content?id=y408k...   \n",
       "1  http://books.google.com/books/content?id=vBmKQ...   \n",
       "2  http://books.google.com/books/content?id=ZRoF9...   \n",
       "3  http://books.google.com/books/content?id=LUrJI...   \n",
       "4  http://books.google.com/books/content?id=MwSM8...   \n",
       "\n",
       "                                         description  published_year  \\\n",
       "0  abductive b body c carpe manana doublering e e...            2003   \n",
       "1  masterful sense place rhetoric thought practic...            1998   \n",
       "2  nobel prizewinning theoretical physicist talk ...            1985   \n",
       "3  twopart profile late nobel prizewinning scient...            2001   \n",
       "4  demonstrating make film help dv camera compute...            2003   \n",
       "\n",
       "   average_rating  num_pages  ratings_count  decade  \n",
       "0            3.17        338             48    2000  \n",
       "1            4.41        233             15    1990  \n",
       "2            4.28        391         105685    1980  \n",
       "3            4.27        256          15646    2000  \n",
       "4            3.52        528             29    2000  "
      ]
     },
     "execution_count": 549,
     "metadata": {},
     "output_type": "execute_result"
    }
   ],
   "source": [
    "books_fe.head()"
   ]
  },
  {
   "cell_type": "markdown",
   "id": "bc536889-2119-4c40-a1ca-558a756b728f",
   "metadata": {},
   "source": [
    "## Preprocessing the numerical data:"
   ]
  },
  {
   "cell_type": "code",
   "execution_count": 554,
   "id": "b8d74754-dab7-4c4e-9d82-bac87b35279b",
   "metadata": {},
   "outputs": [],
   "source": [
    "from sklearn.preprocessing import MinMaxScaler\n",
    "scaler = MinMaxScaler()"
   ]
  },
  {
   "cell_type": "code",
   "execution_count": 556,
   "id": "48b1950d-da43-4ae1-b30c-889cb8db9d3b",
   "metadata": {},
   "outputs": [],
   "source": [
    "books_fe[['average_rating','num_pages','ratings_count']] = scaler.fit_transform(books_fe[['average_rating','num_pages','ratings_count']])"
   ]
  },
  {
   "cell_type": "code",
   "execution_count": 558,
   "id": "87ea2cf1-747a-4c8c-a58c-8e0749e95847",
   "metadata": {},
   "outputs": [
    {
     "data": {
      "text/html": [
       "<div>\n",
       "<style scoped>\n",
       "    .dataframe tbody tr th:only-of-type {\n",
       "        vertical-align: middle;\n",
       "    }\n",
       "\n",
       "    .dataframe tbody tr th {\n",
       "        vertical-align: top;\n",
       "    }\n",
       "\n",
       "    .dataframe thead th {\n",
       "        text-align: right;\n",
       "    }\n",
       "</style>\n",
       "<table border=\"1\" class=\"dataframe\">\n",
       "  <thead>\n",
       "    <tr style=\"text-align: right;\">\n",
       "      <th></th>\n",
       "      <th>isbn10</th>\n",
       "      <th>title</th>\n",
       "      <th>authors</th>\n",
       "      <th>categories</th>\n",
       "      <th>thumbnail</th>\n",
       "      <th>description</th>\n",
       "      <th>published_year</th>\n",
       "      <th>average_rating</th>\n",
       "      <th>num_pages</th>\n",
       "      <th>ratings_count</th>\n",
       "      <th>decade</th>\n",
       "    </tr>\n",
       "  </thead>\n",
       "  <tbody>\n",
       "    <tr>\n",
       "      <th>0</th>\n",
       "      <td>310243564</td>\n",
       "      <td>\"A\" is for Abductive: The Language of the Emer...</td>\n",
       "      <td>[leonard i. sweet, brian d. mclaren, jerry has...</td>\n",
       "      <td>religion</td>\n",
       "      <td>http://books.google.com/books/content?id=y408k...</td>\n",
       "      <td>abductive b body c carpe manana doublering e e...</td>\n",
       "      <td>2003</td>\n",
       "      <td>0.634</td>\n",
       "      <td>0.101137</td>\n",
       "      <td>0.000009</td>\n",
       "      <td>2000</td>\n",
       "    </tr>\n",
       "    <tr>\n",
       "      <th>1</th>\n",
       "      <td>801435307</td>\n",
       "      <td>\"Gorgias\" and \"Phaedrus\": Rhetoric, Philosophy...</td>\n",
       "      <td>[plato]</td>\n",
       "      <td>philosophy</td>\n",
       "      <td>http://books.google.com/books/content?id=vBmKQ...</td>\n",
       "      <td>masterful sense place rhetoric thought practic...</td>\n",
       "      <td>1998</td>\n",
       "      <td>0.882</td>\n",
       "      <td>0.069719</td>\n",
       "      <td>0.000003</td>\n",
       "      <td>1990</td>\n",
       "    </tr>\n",
       "    <tr>\n",
       "      <th>2</th>\n",
       "      <td>393316041</td>\n",
       "      <td>\"Surely You're Joking, Mr. Feynman!\": Adventur...</td>\n",
       "      <td>[richard phillips feynman, ralph leighton]</td>\n",
       "      <td>biography autobiography</td>\n",
       "      <td>http://books.google.com/books/content?id=ZRoF9...</td>\n",
       "      <td>nobel prizewinning theoretical physicist talk ...</td>\n",
       "      <td>1985</td>\n",
       "      <td>0.856</td>\n",
       "      <td>0.116996</td>\n",
       "      <td>0.018772</td>\n",
       "      <td>1980</td>\n",
       "    </tr>\n",
       "    <tr>\n",
       "      <th>3</th>\n",
       "      <td>393320928</td>\n",
       "      <td>\"What Do You Care what Other People Think?\": F...</td>\n",
       "      <td>[richard phillips feynman, ralph leighton]</td>\n",
       "      <td>biography autobiography</td>\n",
       "      <td>http://books.google.com/books/content?id=LUrJI...</td>\n",
       "      <td>twopart profile late nobel prizewinning scient...</td>\n",
       "      <td>2001</td>\n",
       "      <td>0.854</td>\n",
       "      <td>0.076601</td>\n",
       "      <td>0.002779</td>\n",
       "      <td>2000</td>\n",
       "    </tr>\n",
       "    <tr>\n",
       "      <th>4</th>\n",
       "      <td>1592000673</td>\n",
       "      <td>$30 Film School</td>\n",
       "      <td>[michael wareham dean]</td>\n",
       "      <td>computer</td>\n",
       "      <td>http://books.google.com/books/content?id=MwSM8...</td>\n",
       "      <td>demonstrating make film help dv camera compute...</td>\n",
       "      <td>2003</td>\n",
       "      <td>0.704</td>\n",
       "      <td>0.157989</td>\n",
       "      <td>0.000005</td>\n",
       "      <td>2000</td>\n",
       "    </tr>\n",
       "  </tbody>\n",
       "</table>\n",
       "</div>"
      ],
      "text/plain": [
       "       isbn10                                              title  \\\n",
       "0   310243564  \"A\" is for Abductive: The Language of the Emer...   \n",
       "1   801435307  \"Gorgias\" and \"Phaedrus\": Rhetoric, Philosophy...   \n",
       "2   393316041  \"Surely You're Joking, Mr. Feynman!\": Adventur...   \n",
       "3   393320928  \"What Do You Care what Other People Think?\": F...   \n",
       "4  1592000673                                    $30 Film School   \n",
       "\n",
       "                                             authors               categories  \\\n",
       "0  [leonard i. sweet, brian d. mclaren, jerry has...                 religion   \n",
       "1                                            [plato]               philosophy   \n",
       "2         [richard phillips feynman, ralph leighton]  biography autobiography   \n",
       "3         [richard phillips feynman, ralph leighton]  biography autobiography   \n",
       "4                             [michael wareham dean]                 computer   \n",
       "\n",
       "                                           thumbnail  \\\n",
       "0  http://books.google.com/books/content?id=y408k...   \n",
       "1  http://books.google.com/books/content?id=vBmKQ...   \n",
       "2  http://books.google.com/books/content?id=ZRoF9...   \n",
       "3  http://books.google.com/books/content?id=LUrJI...   \n",
       "4  http://books.google.com/books/content?id=MwSM8...   \n",
       "\n",
       "                                         description  published_year  \\\n",
       "0  abductive b body c carpe manana doublering e e...            2003   \n",
       "1  masterful sense place rhetoric thought practic...            1998   \n",
       "2  nobel prizewinning theoretical physicist talk ...            1985   \n",
       "3  twopart profile late nobel prizewinning scient...            2001   \n",
       "4  demonstrating make film help dv camera compute...            2003   \n",
       "\n",
       "   average_rating  num_pages  ratings_count  decade  \n",
       "0           0.634   0.101137       0.000009    2000  \n",
       "1           0.882   0.069719       0.000003    1990  \n",
       "2           0.856   0.116996       0.018772    1980  \n",
       "3           0.854   0.076601       0.002779    2000  \n",
       "4           0.704   0.157989       0.000005    2000  "
      ]
     },
     "execution_count": 558,
     "metadata": {},
     "output_type": "execute_result"
    }
   ],
   "source": [
    "books_fe.head()"
   ]
  },
  {
   "cell_type": "code",
   "execution_count": 560,
   "id": "ebf05bb1-8789-4333-9adb-6f8f1629d2bd",
   "metadata": {},
   "outputs": [],
   "source": [
    "# Binning published year into two categories \"classic\" for books before year 2000 and \"modern\" for books after year 2000:\n",
    "def categorize_published_year(year):\n",
    "    if year < 2000:\n",
    "        return 'classic'\n",
    "    else:\n",
    "        return 'modern'\n",
    "\n",
    "books_fe['published_year'] = books_fe['published_year'].apply(categorize_published_year)"
   ]
  },
  {
   "cell_type": "code",
   "execution_count": 562,
   "id": "3e0b0e98-0c8b-4d45-8dec-8c6f956c0ddc",
   "metadata": {},
   "outputs": [
    {
     "data": {
      "text/plain": [
       "published_year\n",
       "modern     4005\n",
       "classic    2098\n",
       "Name: count, dtype: int64"
      ]
     },
     "execution_count": 562,
     "metadata": {},
     "output_type": "execute_result"
    }
   ],
   "source": [
    "books_fe['published_year'].value_counts()"
   ]
  },
  {
   "cell_type": "code",
   "execution_count": 564,
   "id": "f221e172-6d95-4a83-8fe1-e66ad8b54e98",
   "metadata": {},
   "outputs": [
    {
     "data": {
      "text/html": [
       "<div>\n",
       "<style scoped>\n",
       "    .dataframe tbody tr th:only-of-type {\n",
       "        vertical-align: middle;\n",
       "    }\n",
       "\n",
       "    .dataframe tbody tr th {\n",
       "        vertical-align: top;\n",
       "    }\n",
       "\n",
       "    .dataframe thead th {\n",
       "        text-align: right;\n",
       "    }\n",
       "</style>\n",
       "<table border=\"1\" class=\"dataframe\">\n",
       "  <thead>\n",
       "    <tr style=\"text-align: right;\">\n",
       "      <th></th>\n",
       "      <th>isbn10</th>\n",
       "      <th>title</th>\n",
       "      <th>authors</th>\n",
       "      <th>categories</th>\n",
       "      <th>thumbnail</th>\n",
       "      <th>description</th>\n",
       "      <th>published_year</th>\n",
       "      <th>average_rating</th>\n",
       "      <th>num_pages</th>\n",
       "      <th>ratings_count</th>\n",
       "      <th>decade</th>\n",
       "    </tr>\n",
       "  </thead>\n",
       "  <tbody>\n",
       "    <tr>\n",
       "      <th>0</th>\n",
       "      <td>310243564</td>\n",
       "      <td>\"A\" is for Abductive: The Language of the Emer...</td>\n",
       "      <td>[leonard i. sweet, brian d. mclaren, jerry has...</td>\n",
       "      <td>religion</td>\n",
       "      <td>http://books.google.com/books/content?id=y408k...</td>\n",
       "      <td>abductive b body c carpe manana doublering e e...</td>\n",
       "      <td>modern</td>\n",
       "      <td>0.634</td>\n",
       "      <td>0.101137</td>\n",
       "      <td>0.000009</td>\n",
       "      <td>2000</td>\n",
       "    </tr>\n",
       "    <tr>\n",
       "      <th>1</th>\n",
       "      <td>801435307</td>\n",
       "      <td>\"Gorgias\" and \"Phaedrus\": Rhetoric, Philosophy...</td>\n",
       "      <td>[plato]</td>\n",
       "      <td>philosophy</td>\n",
       "      <td>http://books.google.com/books/content?id=vBmKQ...</td>\n",
       "      <td>masterful sense place rhetoric thought practic...</td>\n",
       "      <td>classic</td>\n",
       "      <td>0.882</td>\n",
       "      <td>0.069719</td>\n",
       "      <td>0.000003</td>\n",
       "      <td>1990</td>\n",
       "    </tr>\n",
       "    <tr>\n",
       "      <th>2</th>\n",
       "      <td>393316041</td>\n",
       "      <td>\"Surely You're Joking, Mr. Feynman!\": Adventur...</td>\n",
       "      <td>[richard phillips feynman, ralph leighton]</td>\n",
       "      <td>biography autobiography</td>\n",
       "      <td>http://books.google.com/books/content?id=ZRoF9...</td>\n",
       "      <td>nobel prizewinning theoretical physicist talk ...</td>\n",
       "      <td>classic</td>\n",
       "      <td>0.856</td>\n",
       "      <td>0.116996</td>\n",
       "      <td>0.018772</td>\n",
       "      <td>1980</td>\n",
       "    </tr>\n",
       "    <tr>\n",
       "      <th>3</th>\n",
       "      <td>393320928</td>\n",
       "      <td>\"What Do You Care what Other People Think?\": F...</td>\n",
       "      <td>[richard phillips feynman, ralph leighton]</td>\n",
       "      <td>biography autobiography</td>\n",
       "      <td>http://books.google.com/books/content?id=LUrJI...</td>\n",
       "      <td>twopart profile late nobel prizewinning scient...</td>\n",
       "      <td>modern</td>\n",
       "      <td>0.854</td>\n",
       "      <td>0.076601</td>\n",
       "      <td>0.002779</td>\n",
       "      <td>2000</td>\n",
       "    </tr>\n",
       "    <tr>\n",
       "      <th>4</th>\n",
       "      <td>1592000673</td>\n",
       "      <td>$30 Film School</td>\n",
       "      <td>[michael wareham dean]</td>\n",
       "      <td>computer</td>\n",
       "      <td>http://books.google.com/books/content?id=MwSM8...</td>\n",
       "      <td>demonstrating make film help dv camera compute...</td>\n",
       "      <td>modern</td>\n",
       "      <td>0.704</td>\n",
       "      <td>0.157989</td>\n",
       "      <td>0.000005</td>\n",
       "      <td>2000</td>\n",
       "    </tr>\n",
       "  </tbody>\n",
       "</table>\n",
       "</div>"
      ],
      "text/plain": [
       "       isbn10                                              title  \\\n",
       "0   310243564  \"A\" is for Abductive: The Language of the Emer...   \n",
       "1   801435307  \"Gorgias\" and \"Phaedrus\": Rhetoric, Philosophy...   \n",
       "2   393316041  \"Surely You're Joking, Mr. Feynman!\": Adventur...   \n",
       "3   393320928  \"What Do You Care what Other People Think?\": F...   \n",
       "4  1592000673                                    $30 Film School   \n",
       "\n",
       "                                             authors               categories  \\\n",
       "0  [leonard i. sweet, brian d. mclaren, jerry has...                 religion   \n",
       "1                                            [plato]               philosophy   \n",
       "2         [richard phillips feynman, ralph leighton]  biography autobiography   \n",
       "3         [richard phillips feynman, ralph leighton]  biography autobiography   \n",
       "4                             [michael wareham dean]                 computer   \n",
       "\n",
       "                                           thumbnail  \\\n",
       "0  http://books.google.com/books/content?id=y408k...   \n",
       "1  http://books.google.com/books/content?id=vBmKQ...   \n",
       "2  http://books.google.com/books/content?id=ZRoF9...   \n",
       "3  http://books.google.com/books/content?id=LUrJI...   \n",
       "4  http://books.google.com/books/content?id=MwSM8...   \n",
       "\n",
       "                                         description published_year  \\\n",
       "0  abductive b body c carpe manana doublering e e...         modern   \n",
       "1  masterful sense place rhetoric thought practic...        classic   \n",
       "2  nobel prizewinning theoretical physicist talk ...        classic   \n",
       "3  twopart profile late nobel prizewinning scient...         modern   \n",
       "4  demonstrating make film help dv camera compute...         modern   \n",
       "\n",
       "   average_rating  num_pages  ratings_count  decade  \n",
       "0           0.634   0.101137       0.000009    2000  \n",
       "1           0.882   0.069719       0.000003    1990  \n",
       "2           0.856   0.116996       0.018772    1980  \n",
       "3           0.854   0.076601       0.002779    2000  \n",
       "4           0.704   0.157989       0.000005    2000  "
      ]
     },
     "execution_count": 564,
     "metadata": {},
     "output_type": "execute_result"
    }
   ],
   "source": [
    "books_fe.head()"
   ]
  },
  {
   "cell_type": "code",
   "execution_count": 566,
   "id": "070de445-4287-4cfd-a0fa-060997737fe4",
   "metadata": {},
   "outputs": [
    {
     "data": {
      "text/plain": [
       "(6103, 11)"
      ]
     },
     "execution_count": 566,
     "metadata": {},
     "output_type": "execute_result"
    }
   ],
   "source": [
    "books_fe.shape"
   ]
  },
  {
   "cell_type": "code",
   "execution_count": 568,
   "id": "1e6e8719-e29c-41de-aae6-e959a4b004ec",
   "metadata": {},
   "outputs": [],
   "source": [
    "# Let's save this preprocessed data:\n",
    "books_fe.to_csv('preprocessed_data.csv',index= False)"
   ]
  },
  {
   "cell_type": "code",
   "execution_count": 570,
   "id": "2929a94f-91fb-442a-88f2-8e594b084c8d",
   "metadata": {},
   "outputs": [],
   "source": [
    "books_fe = pd.read_csv('preprocessed_data.csv')"
   ]
  },
  {
   "cell_type": "markdown",
   "id": "7a0051ae-4b5a-46c5-ac33-91e95f0cab09",
   "metadata": {},
   "source": [
    "### Convert the cleaned text data into numerical representation:"
   ]
  },
  {
   "cell_type": "code",
   "execution_count": 572,
   "id": "720dd0d0-456c-4099-b8d9-29340f62f34a",
   "metadata": {},
   "outputs": [],
   "source": [
    "from sklearn.feature_extraction.text import TfidfVectorizer\n",
    "\n",
    "# Initalize the module:\n",
    "tf_idf = TfidfVectorizer()"
   ]
  },
  {
   "cell_type": "code",
   "execution_count": 574,
   "id": "8ab7e996-7630-4a6d-8dc1-d66ebbd78ed1",
   "metadata": {},
   "outputs": [
    {
     "data": {
      "text/plain": [
       "isbn10             object\n",
       "title              object\n",
       "authors            object\n",
       "categories         object\n",
       "thumbnail          object\n",
       "description        object\n",
       "published_year     object\n",
       "average_rating    float64\n",
       "num_pages         float64\n",
       "ratings_count     float64\n",
       "decade              int64\n",
       "dtype: object"
      ]
     },
     "execution_count": 574,
     "metadata": {},
     "output_type": "execute_result"
    }
   ],
   "source": [
    "books_fe.dtypes"
   ]
  },
  {
   "cell_type": "code",
   "execution_count": 576,
   "id": "bdbe0161-272b-4946-a591-459eb31b53eb",
   "metadata": {},
   "outputs": [],
   "source": [
    "# drop null values (if there are any) :\n",
    "books_fe = books_fe.dropna()"
   ]
  },
  {
   "cell_type": "code",
   "execution_count": 578,
   "id": "17e3bee5-f41d-46e9-ad79-898509dceb36",
   "metadata": {},
   "outputs": [
    {
     "data": {
      "text/plain": [
       "isbn10            0\n",
       "title             0\n",
       "authors           0\n",
       "categories        0\n",
       "thumbnail         0\n",
       "description       0\n",
       "published_year    0\n",
       "average_rating    0\n",
       "num_pages         0\n",
       "ratings_count     0\n",
       "decade            0\n",
       "dtype: int64"
      ]
     },
     "execution_count": 578,
     "metadata": {},
     "output_type": "execute_result"
    }
   ],
   "source": [
    "books_fe.isnull().sum()"
   ]
  },
  {
   "cell_type": "code",
   "execution_count": 646,
   "id": "c81ec81f-cc3e-45da-ab4c-c5a73df6fe5d",
   "metadata": {},
   "outputs": [],
   "source": [
    "tf_idf_title = TfidfVectorizer().fit_transform(books_fe['title'])\n",
    "tf_idf_authors = TfidfVectorizer().fit_transform(books_fe['authors'])\n",
    "tf_idf_categories = TfidfVectorizer().fit_transform(books_fe['categories'])\n",
    "tf_idf_desc = TfidfVectorizer().fit_transform(books_fe['description'])"
   ]
  },
  {
   "cell_type": "code",
   "execution_count": 648,
   "id": "ca3a0d54-da68-41c5-b7cf-2b4b2c372a0a",
   "metadata": {},
   "outputs": [],
   "source": [
    "from sklearn.metrics.pairwise import cosine_similarity"
   ]
  },
  {
   "cell_type": "code",
   "execution_count": 650,
   "id": "cdab5fd3-ae57-468b-b7fa-90b6c513f319",
   "metadata": {},
   "outputs": [],
   "source": [
    "sim_title = cosine_similarity(tf_idf_title)\n",
    "sim_authors = cosine_similarity(tf_idf_authors)\n",
    "sim_categories = cosine_similarity(tf_idf_categories)\n",
    "sim_desc = cosine_similarity(tf_idf_desc)"
   ]
  },
  {
   "cell_type": "code",
   "execution_count": 652,
   "id": "17f30a87-cac7-410c-a9ea-39ec84a9fc5b",
   "metadata": {},
   "outputs": [],
   "source": [
    "# Weighted Combination:\n",
    "combined_similarity = 0.2 * sim_authors + 0.5 * sim_categories + 0.3 * sim_desc"
   ]
  },
  {
   "cell_type": "markdown",
   "id": "3c0fa387-624d-454c-80bc-b7786e405d7b",
   "metadata": {},
   "source": [
    "--------------"
   ]
  },
  {
   "cell_type": "markdown",
   "id": "0e409f78-2827-4ea2-9a12-e434c1ac9732",
   "metadata": {},
   "source": [
    "# Step 5: Builing a recommender System:"
   ]
  },
  {
   "cell_type": "code",
   "execution_count": 756,
   "id": "b8c4529e-0ccd-47fa-abd1-8bbc7c74b506",
   "metadata": {},
   "outputs": [],
   "source": [
    "# Build a recomender system :\n",
    "def book_rec_v1(title,sim_score = combined_similarity,df=books_fe):\n",
    "\n",
    "    # Find the index of the book\n",
    "    idx = books_fe[books_fe['title'] == title].index[0]\n",
    "\n",
    "    # Get similarity scores for all books with the input book\n",
    "    sim_scores = list(enumerate(combined_similarity[idx, :]))\n",
    "\n",
    "    # Exclude the input book from recommendations\n",
    "    sim_scores = [score for score in sim_scores if score[0] != idx]\n",
    "\n",
    "    # Sort the books by similarity scores\n",
    "    sim_scores = sorted(sim_scores, key = lambda x: x[1],reverse= True)\n",
    "\n",
    "    # Get the indices of the top 10 most similar books\n",
    "    sim_indices = [i[0] for i in sim_scores[:10]]\n",
    "\n",
    "     # Return the titles of the recommended books\n",
    "    return books_fe[['title','authors','ratings_count']].iloc[sim_indices]"
   ]
  },
  {
   "cell_type": "code",
   "execution_count": 698,
   "id": "1a0bd21f-b880-42ad-b9cc-6b5817a79be4",
   "metadata": {},
   "outputs": [
    {
     "name": "stdout",
     "output_type": "stream",
     "text": [
      "(6100, 6100)\n",
      "(6100, 11)\n"
     ]
    }
   ],
   "source": [
    "print(combined_similarity.shape)\n",
    "print(books_fe.shape)"
   ]
  },
  {
   "cell_type": "code",
   "execution_count": 700,
   "id": "6765d519-5fec-47af-a265-591766c07c8c",
   "metadata": {},
   "outputs": [],
   "source": [
    "title = \"Harry Potter and the Sorcerer's Stone (Book 1)\""
   ]
  },
  {
   "cell_type": "code",
   "execution_count": 702,
   "id": "273fe629-f7af-4afc-96a1-7a5bc5c86b58",
   "metadata": {},
   "outputs": [
    {
     "data": {
      "text/html": [
       "<div>\n",
       "<style scoped>\n",
       "    .dataframe tbody tr th:only-of-type {\n",
       "        vertical-align: middle;\n",
       "    }\n",
       "\n",
       "    .dataframe tbody tr th {\n",
       "        vertical-align: top;\n",
       "    }\n",
       "\n",
       "    .dataframe thead th {\n",
       "        text-align: right;\n",
       "    }\n",
       "</style>\n",
       "<table border=\"1\" class=\"dataframe\">\n",
       "  <thead>\n",
       "    <tr style=\"text-align: right;\">\n",
       "      <th></th>\n",
       "      <th>title</th>\n",
       "      <th>authors</th>\n",
       "    </tr>\n",
       "  </thead>\n",
       "  <tbody>\n",
       "    <tr>\n",
       "      <th>1762</th>\n",
       "      <td>Harry Potter and the Chamber of Secrets (Book 2)</td>\n",
       "      <td>['rowling', ' j.k.']</td>\n",
       "    </tr>\n",
       "    <tr>\n",
       "      <th>1764</th>\n",
       "      <td>Harry Potter and the Half-Blood Prince (Book 6)</td>\n",
       "      <td>['rowling', ' j.k.']</td>\n",
       "    </tr>\n",
       "    <tr>\n",
       "      <th>1767</th>\n",
       "      <td>Harry Potter and the Prisoner of Azkaban (Book 3)</td>\n",
       "      <td>['rowling', ' j.k.']</td>\n",
       "    </tr>\n",
       "    <tr>\n",
       "      <th>1765</th>\n",
       "      <td>Harry Potter and the Order of the Phoenix (Boo...</td>\n",
       "      <td>['rowling', ' j.k.']</td>\n",
       "    </tr>\n",
       "    <tr>\n",
       "      <th>1761</th>\n",
       "      <td>Harry Potter and the Chamber of Secrets</td>\n",
       "      <td>['j. k. rowling', 'mary grandpre']</td>\n",
       "    </tr>\n",
       "    <tr>\n",
       "      <th>1763</th>\n",
       "      <td>Harry Potter and the Goblet of Fire</td>\n",
       "      <td>['j. k. rowling']</td>\n",
       "    </tr>\n",
       "    <tr>\n",
       "      <th>1769</th>\n",
       "      <td>Harry Potter: 5 Years of Magic, Adventure, and...</td>\n",
       "      <td>['j. k. rowling']</td>\n",
       "    </tr>\n",
       "    <tr>\n",
       "      <th>4538</th>\n",
       "      <td>The Harry Potter Collection: The First Six Spe...</td>\n",
       "      <td>['j. k. rowling']</td>\n",
       "    </tr>\n",
       "    <tr>\n",
       "      <th>4219</th>\n",
       "      <td>The Cricket in Times Square</td>\n",
       "      <td>['george selden']</td>\n",
       "    </tr>\n",
       "    <tr>\n",
       "      <th>1137</th>\n",
       "      <td>Diary of a Spider</td>\n",
       "      <td>['doreen cronin']</td>\n",
       "    </tr>\n",
       "  </tbody>\n",
       "</table>\n",
       "</div>"
      ],
      "text/plain": [
       "                                                  title  \\\n",
       "1762   Harry Potter and the Chamber of Secrets (Book 2)   \n",
       "1764    Harry Potter and the Half-Blood Prince (Book 6)   \n",
       "1767  Harry Potter and the Prisoner of Azkaban (Book 3)   \n",
       "1765  Harry Potter and the Order of the Phoenix (Boo...   \n",
       "1761            Harry Potter and the Chamber of Secrets   \n",
       "1763                Harry Potter and the Goblet of Fire   \n",
       "1769  Harry Potter: 5 Years of Magic, Adventure, and...   \n",
       "4538  The Harry Potter Collection: The First Six Spe...   \n",
       "4219                        The Cricket in Times Square   \n",
       "1137                                  Diary of a Spider   \n",
       "\n",
       "                                 authors  \n",
       "1762                ['rowling', ' j.k.']  \n",
       "1764                ['rowling', ' j.k.']  \n",
       "1767                ['rowling', ' j.k.']  \n",
       "1765                ['rowling', ' j.k.']  \n",
       "1761  ['j. k. rowling', 'mary grandpre']  \n",
       "1763                   ['j. k. rowling']  \n",
       "1769                   ['j. k. rowling']  \n",
       "4538                   ['j. k. rowling']  \n",
       "4219                   ['george selden']  \n",
       "1137                   ['doreen cronin']  "
      ]
     },
     "execution_count": 702,
     "metadata": {},
     "output_type": "execute_result"
    }
   ],
   "source": [
    "recommended_books = book_rec_v1(title)\n",
    "recommended_books"
   ]
  },
  {
   "cell_type": "code",
   "execution_count": 692,
   "id": "3d13c2f9-290f-49f3-bd2e-9e8184133a4a",
   "metadata": {},
   "outputs": [
    {
     "data": {
      "text/html": [
       "<div>\n",
       "<style scoped>\n",
       "    .dataframe tbody tr th:only-of-type {\n",
       "        vertical-align: middle;\n",
       "    }\n",
       "\n",
       "    .dataframe tbody tr th {\n",
       "        vertical-align: top;\n",
       "    }\n",
       "\n",
       "    .dataframe thead th {\n",
       "        text-align: right;\n",
       "    }\n",
       "</style>\n",
       "<table border=\"1\" class=\"dataframe\">\n",
       "  <thead>\n",
       "    <tr style=\"text-align: right;\">\n",
       "      <th></th>\n",
       "      <th>isbn10</th>\n",
       "      <th>title</th>\n",
       "      <th>authors</th>\n",
       "      <th>categories</th>\n",
       "      <th>thumbnail</th>\n",
       "      <th>description</th>\n",
       "      <th>published_year</th>\n",
       "      <th>average_rating</th>\n",
       "      <th>num_pages</th>\n",
       "      <th>ratings_count</th>\n",
       "      <th>decade</th>\n",
       "    </tr>\n",
       "  </thead>\n",
       "  <tbody>\n",
       "    <tr>\n",
       "      <th>3284</th>\n",
       "      <td>743477111</td>\n",
       "      <td>Romeo and Juliet</td>\n",
       "      <td>['william shakespeare']</td>\n",
       "      <td>drama</td>\n",
       "      <td>http://books.google.com/books/content?id=1cEsN...</td>\n",
       "      <td>offer explanatory note page facing text play w...</td>\n",
       "      <td>classic</td>\n",
       "      <td>0.748</td>\n",
       "      <td>0.084680</td>\n",
       "      <td>0.321720</td>\n",
       "      <td>1990</td>\n",
       "    </tr>\n",
       "    <tr>\n",
       "      <th>3285</th>\n",
       "      <td>743482808</td>\n",
       "      <td>Romeo and Juliet</td>\n",
       "      <td>['william shakespeare', 'barbara a. mowat', 'p...</td>\n",
       "      <td>drama</td>\n",
       "      <td>http://books.google.com/books/content?id=ZF0U9...</td>\n",
       "      <td>offer explanatory note page facing text play w...</td>\n",
       "      <td>modern</td>\n",
       "      <td>0.748</td>\n",
       "      <td>0.084081</td>\n",
       "      <td>0.000052</td>\n",
       "      <td>2000</td>\n",
       "    </tr>\n",
       "  </tbody>\n",
       "</table>\n",
       "</div>"
      ],
      "text/plain": [
       "         isbn10             title  \\\n",
       "3284  743477111  Romeo and Juliet   \n",
       "3285  743482808  Romeo and Juliet   \n",
       "\n",
       "                                                authors categories  \\\n",
       "3284                            ['william shakespeare']      drama   \n",
       "3285  ['william shakespeare', 'barbara a. mowat', 'p...      drama   \n",
       "\n",
       "                                              thumbnail  \\\n",
       "3284  http://books.google.com/books/content?id=1cEsN...   \n",
       "3285  http://books.google.com/books/content?id=ZF0U9...   \n",
       "\n",
       "                                            description published_year  \\\n",
       "3284  offer explanatory note page facing text play w...        classic   \n",
       "3285  offer explanatory note page facing text play w...         modern   \n",
       "\n",
       "      average_rating  num_pages  ratings_count  decade  \n",
       "3284           0.748   0.084680       0.321720    1990  \n",
       "3285           0.748   0.084081       0.000052    2000  "
      ]
     },
     "execution_count": 692,
     "metadata": {},
     "output_type": "execute_result"
    }
   ],
   "source": [
    "books_fe[books_fe['title'] == \"Romeo and Juliet\"]"
   ]
  },
  {
   "cell_type": "code",
   "execution_count": 704,
   "id": "356db540-da63-4373-9d06-e13fcaed2426",
   "metadata": {},
   "outputs": [
    {
     "data": {
      "text/html": [
       "<div>\n",
       "<style scoped>\n",
       "    .dataframe tbody tr th:only-of-type {\n",
       "        vertical-align: middle;\n",
       "    }\n",
       "\n",
       "    .dataframe tbody tr th {\n",
       "        vertical-align: top;\n",
       "    }\n",
       "\n",
       "    .dataframe thead th {\n",
       "        text-align: right;\n",
       "    }\n",
       "</style>\n",
       "<table border=\"1\" class=\"dataframe\">\n",
       "  <thead>\n",
       "    <tr style=\"text-align: right;\">\n",
       "      <th></th>\n",
       "      <th>title</th>\n",
       "      <th>authors</th>\n",
       "    </tr>\n",
       "  </thead>\n",
       "  <tbody>\n",
       "    <tr>\n",
       "      <th>2446</th>\n",
       "      <td>Macbeth</td>\n",
       "      <td>['william shakespeare']</td>\n",
       "    </tr>\n",
       "    <tr>\n",
       "      <th>3285</th>\n",
       "      <td>Romeo and Juliet</td>\n",
       "      <td>['william shakespeare', 'barbara a. mowat', 'p...</td>\n",
       "    </tr>\n",
       "    <tr>\n",
       "      <th>126</th>\n",
       "      <td>A Midsummer Night's Dream</td>\n",
       "      <td>['william shakespeare']</td>\n",
       "    </tr>\n",
       "    <tr>\n",
       "      <th>5738</th>\n",
       "      <td>Twelfth Night</td>\n",
       "      <td>['william shakespeare']</td>\n",
       "    </tr>\n",
       "    <tr>\n",
       "      <th>4827</th>\n",
       "      <td>The Merchant of Venice</td>\n",
       "      <td>['william shakespeare']</td>\n",
       "    </tr>\n",
       "    <tr>\n",
       "      <th>5740</th>\n",
       "      <td>Twelfth Night, Or, What You Will: Modern Engli...</td>\n",
       "      <td>['william shakespeare']</td>\n",
       "    </tr>\n",
       "    <tr>\n",
       "      <th>2939</th>\n",
       "      <td>Othello</td>\n",
       "      <td>['william shakespeare']</td>\n",
       "    </tr>\n",
       "    <tr>\n",
       "      <th>5346</th>\n",
       "      <td>The Tempest</td>\n",
       "      <td>['william shakespeare']</td>\n",
       "    </tr>\n",
       "    <tr>\n",
       "      <th>2447</th>\n",
       "      <td>Macbeth</td>\n",
       "      <td>['william shakespeare', 'dr. barbara a. mowat'...</td>\n",
       "    </tr>\n",
       "    <tr>\n",
       "      <th>5969</th>\n",
       "      <td>William Shakespeare: The Complete Works</td>\n",
       "      <td>['william shakespeare']</td>\n",
       "    </tr>\n",
       "  </tbody>\n",
       "</table>\n",
       "</div>"
      ],
      "text/plain": [
       "                                                  title  \\\n",
       "2446                                            Macbeth   \n",
       "3285                                   Romeo and Juliet   \n",
       "126                           A Midsummer Night's Dream   \n",
       "5738                                      Twelfth Night   \n",
       "4827                             The Merchant of Venice   \n",
       "5740  Twelfth Night, Or, What You Will: Modern Engli...   \n",
       "2939                                            Othello   \n",
       "5346                                        The Tempest   \n",
       "2447                                            Macbeth   \n",
       "5969            William Shakespeare: The Complete Works   \n",
       "\n",
       "                                                authors  \n",
       "2446                            ['william shakespeare']  \n",
       "3285  ['william shakespeare', 'barbara a. mowat', 'p...  \n",
       "126                             ['william shakespeare']  \n",
       "5738                            ['william shakespeare']  \n",
       "4827                            ['william shakespeare']  \n",
       "5740                            ['william shakespeare']  \n",
       "2939                            ['william shakespeare']  \n",
       "5346                            ['william shakespeare']  \n",
       "2447  ['william shakespeare', 'dr. barbara a. mowat'...  \n",
       "5969                            ['william shakespeare']  "
      ]
     },
     "execution_count": 704,
     "metadata": {},
     "output_type": "execute_result"
    }
   ],
   "source": [
    "recommended_books = book_rec_v1(\"Romeo and Juliet\")\n",
    "recommended_books"
   ]
  },
  {
   "cell_type": "code",
   "execution_count": 706,
   "id": "cdb47742-65b6-4a23-b7b5-076f186f3c97",
   "metadata": {},
   "outputs": [
    {
     "data": {
      "text/html": [
       "<div>\n",
       "<style scoped>\n",
       "    .dataframe tbody tr th:only-of-type {\n",
       "        vertical-align: middle;\n",
       "    }\n",
       "\n",
       "    .dataframe tbody tr th {\n",
       "        vertical-align: top;\n",
       "    }\n",
       "\n",
       "    .dataframe thead th {\n",
       "        text-align: right;\n",
       "    }\n",
       "</style>\n",
       "<table border=\"1\" class=\"dataframe\">\n",
       "  <thead>\n",
       "    <tr style=\"text-align: right;\">\n",
       "      <th></th>\n",
       "      <th>title</th>\n",
       "      <th>authors</th>\n",
       "    </tr>\n",
       "  </thead>\n",
       "  <tbody>\n",
       "    <tr>\n",
       "      <th>3856</th>\n",
       "      <td>The Alchemist - Gift Edition</td>\n",
       "      <td>['paulo coelho']</td>\n",
       "    </tr>\n",
       "    <tr>\n",
       "      <th>5864</th>\n",
       "      <td>Warrior of the Light: A Manual</td>\n",
       "      <td>['paulo coelho']</td>\n",
       "    </tr>\n",
       "    <tr>\n",
       "      <th>699</th>\n",
       "      <td>By the River Piedra I Sat Down and Wept: A Nov...</td>\n",
       "      <td>['paulo coelho']</td>\n",
       "    </tr>\n",
       "    <tr>\n",
       "      <th>5003</th>\n",
       "      <td>The Pilgrimage</td>\n",
       "      <td>['paulo coelho', 'alan r. clarke']</td>\n",
       "    </tr>\n",
       "    <tr>\n",
       "      <th>4603</th>\n",
       "      <td>The Illustrated Alchemist: A Fable About Follo...</td>\n",
       "      <td>['paulo coelho', 'alan r. clarke', 'moebius']</td>\n",
       "    </tr>\n",
       "    <tr>\n",
       "      <th>4278</th>\n",
       "      <td>The Devil and Miss Prym: A Novel of Temptation</td>\n",
       "      <td>['paulo coelho']</td>\n",
       "    </tr>\n",
       "    <tr>\n",
       "      <th>1301</th>\n",
       "      <td>Eleven Minutes: A Novel</td>\n",
       "      <td>['paulo coelho']</td>\n",
       "    </tr>\n",
       "    <tr>\n",
       "      <th>5814</th>\n",
       "      <td>Veronika Decides to Die: A Novel of Redemption</td>\n",
       "      <td>['paulo coelho']</td>\n",
       "    </tr>\n",
       "    <tr>\n",
       "      <th>4409</th>\n",
       "      <td>The Fifth Mountain</td>\n",
       "      <td>['paulo coelho']</td>\n",
       "    </tr>\n",
       "    <tr>\n",
       "      <th>1790</th>\n",
       "      <td>Heart of the Sea</td>\n",
       "      <td>['nora roberts']</td>\n",
       "    </tr>\n",
       "  </tbody>\n",
       "</table>\n",
       "</div>"
      ],
      "text/plain": [
       "                                                  title  \\\n",
       "3856                       The Alchemist - Gift Edition   \n",
       "5864                     Warrior of the Light: A Manual   \n",
       "699   By the River Piedra I Sat Down and Wept: A Nov...   \n",
       "5003                                     The Pilgrimage   \n",
       "4603  The Illustrated Alchemist: A Fable About Follo...   \n",
       "4278     The Devil and Miss Prym: A Novel of Temptation   \n",
       "1301                            Eleven Minutes: A Novel   \n",
       "5814     Veronika Decides to Die: A Novel of Redemption   \n",
       "4409                                 The Fifth Mountain   \n",
       "1790                                   Heart of the Sea   \n",
       "\n",
       "                                            authors  \n",
       "3856                               ['paulo coelho']  \n",
       "5864                               ['paulo coelho']  \n",
       "699                                ['paulo coelho']  \n",
       "5003             ['paulo coelho', 'alan r. clarke']  \n",
       "4603  ['paulo coelho', 'alan r. clarke', 'moebius']  \n",
       "4278                               ['paulo coelho']  \n",
       "1301                               ['paulo coelho']  \n",
       "5814                               ['paulo coelho']  \n",
       "4409                               ['paulo coelho']  \n",
       "1790                               ['nora roberts']  "
      ]
     },
     "execution_count": 706,
     "metadata": {},
     "output_type": "execute_result"
    }
   ],
   "source": [
    "recommended_books = book_rec_v1(\"The Alchemist\")\n",
    "recommended_books"
   ]
  },
  {
   "cell_type": "code",
   "execution_count": 668,
   "id": "58ed9725-438a-4c9b-81fd-b09ab06767f4",
   "metadata": {},
   "outputs": [
    {
     "data": {
      "text/plain": [
       "'warrior light manual inspirational companion alchemist international bestseller beguiled million reader around world every short passage invite u live dream embrace uncertainty life rise unique destiny inimitable style paulo coelho help bring warrior light within u also show reader embark upon way warrior one appreciates miracle alive one accepts failure one whose quest lead become person want paulo coelho one beloved storyteller time longawaited companion first novel coelho present collection philosophical story delight guide seeker everywhere'"
      ]
     },
     "execution_count": 668,
     "metadata": {},
     "output_type": "execute_result"
    }
   ],
   "source": [
    "books_fe['description'].iloc[5864]"
   ]
  },
  {
   "cell_type": "code",
   "execution_count": 708,
   "id": "707154f1-715b-43d0-a120-417d65f9c241",
   "metadata": {},
   "outputs": [
    {
     "data": {
      "text/html": [
       "<div>\n",
       "<style scoped>\n",
       "    .dataframe tbody tr th:only-of-type {\n",
       "        vertical-align: middle;\n",
       "    }\n",
       "\n",
       "    .dataframe tbody tr th {\n",
       "        vertical-align: top;\n",
       "    }\n",
       "\n",
       "    .dataframe thead th {\n",
       "        text-align: right;\n",
       "    }\n",
       "</style>\n",
       "<table border=\"1\" class=\"dataframe\">\n",
       "  <thead>\n",
       "    <tr style=\"text-align: right;\">\n",
       "      <th></th>\n",
       "      <th>title</th>\n",
       "      <th>authors</th>\n",
       "    </tr>\n",
       "  </thead>\n",
       "  <tbody>\n",
       "    <tr>\n",
       "      <th>5264</th>\n",
       "      <td>The Sky Is Falling</td>\n",
       "      <td>['sidney sheldon']</td>\n",
       "    </tr>\n",
       "    <tr>\n",
       "      <th>2833</th>\n",
       "      <td>Nothing Lasts Forever</td>\n",
       "      <td>['sidney sheldon']</td>\n",
       "    </tr>\n",
       "    <tr>\n",
       "      <th>3791</th>\n",
       "      <td>Tell Me Your Dreams</td>\n",
       "      <td>['sidney sheldon']</td>\n",
       "    </tr>\n",
       "    <tr>\n",
       "      <th>4122</th>\n",
       "      <td>The Client</td>\n",
       "      <td>['john grisham']</td>\n",
       "    </tr>\n",
       "    <tr>\n",
       "      <th>12</th>\n",
       "      <td>10 Lb. Penalty</td>\n",
       "      <td>['dick francis']</td>\n",
       "    </tr>\n",
       "    <tr>\n",
       "      <th>2851</th>\n",
       "      <td>Odalisque: The Baroque Cycle #3</td>\n",
       "      <td>['neal stephenson']</td>\n",
       "    </tr>\n",
       "    <tr>\n",
       "      <th>4315</th>\n",
       "      <td>The Dragon Reborn: Book Three of 'The Wheel of...</td>\n",
       "      <td>['robert jordan']</td>\n",
       "    </tr>\n",
       "    <tr>\n",
       "      <th>983</th>\n",
       "      <td>Crime Partners</td>\n",
       "      <td>['donald goines']</td>\n",
       "    </tr>\n",
       "    <tr>\n",
       "      <th>1759</th>\n",
       "      <td>Harry Bosch Novels, The: Volume 2: The Last Co...</td>\n",
       "      <td>['michael connelly']</td>\n",
       "    </tr>\n",
       "    <tr>\n",
       "      <th>511</th>\n",
       "      <td>Beauty and Sadness</td>\n",
       "      <td>['yasunari kawabata']</td>\n",
       "    </tr>\n",
       "  </tbody>\n",
       "</table>\n",
       "</div>"
      ],
      "text/plain": [
       "                                                  title                authors\n",
       "5264                                 The Sky Is Falling     ['sidney sheldon']\n",
       "2833                              Nothing Lasts Forever     ['sidney sheldon']\n",
       "3791                                Tell Me Your Dreams     ['sidney sheldon']\n",
       "4122                                         The Client       ['john grisham']\n",
       "12                                       10 Lb. Penalty       ['dick francis']\n",
       "2851                    Odalisque: The Baroque Cycle #3    ['neal stephenson']\n",
       "4315  The Dragon Reborn: Book Three of 'The Wheel of...      ['robert jordan']\n",
       "983                                      Crime Partners      ['donald goines']\n",
       "1759  Harry Bosch Novels, The: Volume 2: The Last Co...   ['michael connelly']\n",
       "511                                  Beauty and Sadness  ['yasunari kawabata']"
      ]
     },
     "execution_count": 708,
     "metadata": {},
     "output_type": "execute_result"
    }
   ],
   "source": [
    "recommended_books = book_rec_v1(\"Rage of angels\")\n",
    "recommended_books"
   ]
  },
  {
   "cell_type": "code",
   "execution_count": 642,
   "id": "56295652-348e-4a35-8438-0ce56db6fe28",
   "metadata": {},
   "outputs": [],
   "source": [
    "books_fe = books_fe.reset_index(drop=True)  # Resets the index to default integers"
   ]
  },
  {
   "cell_type": "code",
   "execution_count": 686,
   "id": "5e3ca896-ab47-40ff-b0ae-8ea6f30cc1b1",
   "metadata": {},
   "outputs": [
    {
     "data": {
      "text/plain": [
       "'entering political arena trusted confidant politician father exjockey benedict juliard find target vicious attack father dangerous enemy assault could destroy reputation father prospective prime minister reissue'"
      ]
     },
     "execution_count": 686,
     "metadata": {},
     "output_type": "execute_result"
    }
   ],
   "source": [
    "books_fe['description'].iloc[12]"
   ]
  },
  {
   "cell_type": "code",
   "execution_count": 710,
   "id": "8d71c32e-e5c6-44cc-b6bc-7db24f0a26bd",
   "metadata": {},
   "outputs": [
    {
     "data": {
      "text/html": [
       "<div>\n",
       "<style scoped>\n",
       "    .dataframe tbody tr th:only-of-type {\n",
       "        vertical-align: middle;\n",
       "    }\n",
       "\n",
       "    .dataframe tbody tr th {\n",
       "        vertical-align: top;\n",
       "    }\n",
       "\n",
       "    .dataframe thead th {\n",
       "        text-align: right;\n",
       "    }\n",
       "</style>\n",
       "<table border=\"1\" class=\"dataframe\">\n",
       "  <thead>\n",
       "    <tr style=\"text-align: right;\">\n",
       "      <th></th>\n",
       "      <th>title</th>\n",
       "      <th>authors</th>\n",
       "    </tr>\n",
       "  </thead>\n",
       "  <tbody>\n",
       "    <tr>\n",
       "      <th>5241</th>\n",
       "      <td>The Short Stories of F. Scott Fitzgerald: A Ne...</td>\n",
       "      <td>['f. scott fitzgerald']</td>\n",
       "    </tr>\n",
       "    <tr>\n",
       "      <th>1479</th>\n",
       "      <td>Fitzgerald: All The Sad Young Men</td>\n",
       "      <td>['f. scott fitzgerald']</td>\n",
       "    </tr>\n",
       "    <tr>\n",
       "      <th>4979</th>\n",
       "      <td>The Pat Hobby Stories</td>\n",
       "      <td>['f. scott fitzgerald']</td>\n",
       "    </tr>\n",
       "    <tr>\n",
       "      <th>2746</th>\n",
       "      <td>Narcissus and Goldmund</td>\n",
       "      <td>['hermann hesse']</td>\n",
       "    </tr>\n",
       "    <tr>\n",
       "      <th>2345</th>\n",
       "      <td>Like Water for Chocolate: A Novel in Monthly I...</td>\n",
       "      <td>['laura esquivel']</td>\n",
       "    </tr>\n",
       "    <tr>\n",
       "      <th>3800</th>\n",
       "      <td>Tender is the Night</td>\n",
       "      <td>['f. scott fitzgerald']</td>\n",
       "    </tr>\n",
       "    <tr>\n",
       "      <th>4767</th>\n",
       "      <td>The Love of the Last Tycoon: The Authorized Text</td>\n",
       "      <td>['f. scott fitzgerald']</td>\n",
       "    </tr>\n",
       "    <tr>\n",
       "      <th>1454</th>\n",
       "      <td>Filth: A Novel</td>\n",
       "      <td>['irvine welsh']</td>\n",
       "    </tr>\n",
       "    <tr>\n",
       "      <th>4579</th>\n",
       "      <td>The Hour Before Dark</td>\n",
       "      <td>['douglas clegg']</td>\n",
       "    </tr>\n",
       "    <tr>\n",
       "      <th>5266</th>\n",
       "      <td>The Sleeping Doll</td>\n",
       "      <td>['jeffery deaver']</td>\n",
       "    </tr>\n",
       "  </tbody>\n",
       "</table>\n",
       "</div>"
      ],
      "text/plain": [
       "                                                  title  \\\n",
       "5241  The Short Stories of F. Scott Fitzgerald: A Ne...   \n",
       "1479                  Fitzgerald: All The Sad Young Men   \n",
       "4979                              The Pat Hobby Stories   \n",
       "2746                             Narcissus and Goldmund   \n",
       "2345  Like Water for Chocolate: A Novel in Monthly I...   \n",
       "3800                                Tender is the Night   \n",
       "4767   The Love of the Last Tycoon: The Authorized Text   \n",
       "1454                                     Filth: A Novel   \n",
       "4579                               The Hour Before Dark   \n",
       "5266                                  The Sleeping Doll   \n",
       "\n",
       "                      authors  \n",
       "5241  ['f. scott fitzgerald']  \n",
       "1479  ['f. scott fitzgerald']  \n",
       "4979  ['f. scott fitzgerald']  \n",
       "2746        ['hermann hesse']  \n",
       "2345       ['laura esquivel']  \n",
       "3800  ['f. scott fitzgerald']  \n",
       "4767  ['f. scott fitzgerald']  \n",
       "1454         ['irvine welsh']  \n",
       "4579        ['douglas clegg']  \n",
       "5266       ['jeffery deaver']  "
      ]
     },
     "execution_count": 710,
     "metadata": {},
     "output_type": "execute_result"
    }
   ],
   "source": [
    "recommended_books = book_rec_v1(\"The Great Gatsby\")\n",
    "recommended_books"
   ]
  },
  {
   "cell_type": "markdown",
   "id": "73aa1614-1d9b-4ea5-9785-9ddff7a90712",
   "metadata": {},
   "source": [
    "# Version 2:"
   ]
  },
  {
   "cell_type": "code",
   "execution_count": null,
   "id": "89c02c43-b890-4506-98da-c9fde6e72399",
   "metadata": {},
   "outputs": [],
   "source": [
    "# Assign more weight to book's description :\n",
    "# Weighted Combination:\n",
    "new_combined_similarity = 0.1 * sim_authors + 0.3 * sim_categories + 0.6 * sim_desc"
   ]
  },
  {
   "cell_type": "code",
   "execution_count": null,
   "id": "62525710-c7e5-4286-8da2-4563a6302537",
   "metadata": {},
   "outputs": [],
   "source": [
    "# Build a recomender system :\n",
    "def book_rec_v2(title,sim_score = new_combined_similarity,df=books_fe):\n",
    "\n",
    "    # Find the index of the book\n",
    "    idx = books_fe[books_fe['title'] == title].index[0]\n",
    "\n",
    "    # Get similarity scores for all books with the input book\n",
    "    sim_scores = list(enumerate(new_combined_similarity[idx, :]))\n",
    "\n",
    "    # Exclude the input book from recommendations\n",
    "    sim_scores = [score for score in sim_scores if score[0] != idx]\n",
    "\n",
    "    # Sort the books by similarity scores\n",
    "    sim_scores = sorted(sim_scores, key = lambda x: x[1],reverse= True)\n",
    "\n",
    "    # Get the indices of the top 10 most similar books\n",
    "    sim_indices = [i[0] for i in sim_scores[:10]]\n",
    "\n",
    "     # Return the titles of the recommended books\n",
    "    return books_fe[['title','authors','ratings_count']].iloc[sim_indices]"
   ]
  },
  {
   "cell_type": "code",
   "execution_count": null,
   "id": "a6b40a91-b22d-4623-aaa5-1a18216d9388",
   "metadata": {},
   "outputs": [],
   "source": [
    "recommended_books = book_rec_v2(\"Harry Potter and the Sorcerer's Stone (Book 1)\")\n",
    "recommended_books"
   ]
  },
  {
   "cell_type": "code",
   "execution_count": null,
   "id": "3399fe7d-3ea3-4efa-8032-a6b4423b2cfe",
   "metadata": {},
   "outputs": [],
   "source": [
    "recommended_books = book_rec_v2(\"Romeo and Juliet\")\n",
    "recommended_books"
   ]
  },
  {
   "cell_type": "code",
   "execution_count": null,
   "id": "9144d0f3-9998-4d49-adcb-2b8d32dca3a3",
   "metadata": {},
   "outputs": [],
   "source": [
    "recommended_books = book_rec_v2(\"The Alchemist\")\n",
    "recommended_books"
   ]
  },
  {
   "cell_type": "code",
   "execution_count": null,
   "id": "c2f2eb2c-ed08-4dc4-96c3-3592beb57c03",
   "metadata": {},
   "outputs": [],
   "source": [
    "recommended_books = book_rec_v2(\"Rage of angels\")\n",
    "recommended_books"
   ]
  },
  {
   "cell_type": "code",
   "execution_count": null,
   "id": "b81cacfc-b146-4592-a85a-d51387beebb0",
   "metadata": {},
   "outputs": [],
   "source": [
    "recommended_books = book_rec_v2(\"The Great Gatsby\")\n",
    "recommended_books"
   ]
  },
  {
   "cell_type": "code",
   "execution_count": null,
   "id": "48104e58-1136-44ba-9cb9-76f51d9b7c11",
   "metadata": {},
   "outputs": [],
   "source": [
    "recommended_books = book_rec_v2(\"Gilead\")\n",
    "recommended_books"
   ]
  },
  {
   "cell_type": "markdown",
   "id": "a23abbb1-e4d8-4853-9658-3f25dd85d729",
   "metadata": {},
   "source": [
    "## Version 2 of our book recommender system is working effectively!!"
   ]
  },
  {
   "cell_type": "markdown",
   "id": "a302754f-b437-4fc9-afeb-dba89896564e",
   "metadata": {},
   "source": [
    "----------------------------------------------------------------------"
   ]
  },
  {
   "cell_type": "markdown",
   "id": "e014ad9b-f8b5-4a5b-ad57-85c84f347d40",
   "metadata": {},
   "source": [
    "# Step 6 : Conclusion:"
   ]
  },
  {
   "cell_type": "markdown",
   "id": "e762ae7c-4271-4e2d-9952-190fdf95c806",
   "metadata": {},
   "source": [
    "### The primary goal of this project was to develop a personalized book recommendation system that provides users with suggestions based on various attributes such as authors, categories, descriptions, and ratings. The system aims to simplify the process of discovering books similar to a user's preferences.\n",
    "\n",
    "### Major challenges encountered during the project:\n",
    "### 1. One challenge was ensuring that the system did not recommend the input book itself, which was addressed by excluding the input book index from recommendations.\"\n",
    "### 2. Balancing the weights of text similarity and numerical features like ratings_count required iterative testing and fine-tuning to achieve optimal results.\""
   ]
  },
  {
   "cell_type": "markdown",
   "id": "ad8e7b93-ca2e-4b55-a6eb-1b352ca94fc4",
   "metadata": {},
   "source": [
    "### This recommendation system bridges the gap between users and books, helping readers discover new titles based on their preferences while promoting books that might otherwise be overlooked.\n",
    "\n",
    "### This project demonstrates the effectiveness of combining content-based and numerical feature-based techniques for book recommendations. With future enhancements, this system can serve as a robust foundation for personalized book discovery."
   ]
  },
  {
   "cell_type": "markdown",
   "id": "1a479670-0e26-4842-9c0e-c8fa49d3ad5c",
   "metadata": {},
   "source": [
    "---------------------------------------------------------------------------------------------------------------------------------------------"
   ]
  }
 ],
 "metadata": {
  "kernelspec": {
   "display_name": "Python 3 (ipykernel)",
   "language": "python",
   "name": "python3"
  },
  "language_info": {
   "codemirror_mode": {
    "name": "ipython",
    "version": 3
   },
   "file_extension": ".py",
   "mimetype": "text/x-python",
   "name": "python",
   "nbconvert_exporter": "python",
   "pygments_lexer": "ipython3",
   "version": "3.12.4"
  }
 },
 "nbformat": 4,
 "nbformat_minor": 5
}
